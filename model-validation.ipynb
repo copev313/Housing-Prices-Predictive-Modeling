{
  "nbformat": 4,
  "nbformat_minor": 0,
  "metadata": {
    "kernelspec": {
      "language": "python",
      "display_name": "Python 3",
      "name": "python3"
    },
    "language_info": {
      "pygments_lexer": "ipython3",
      "nbconvert_exporter": "python",
      "version": "3.6.4",
      "file_extension": ".py",
      "codemirror_mode": {
        "name": "ipython",
        "version": 3
      },
      "name": "python",
      "mimetype": "text/x-python"
    },
    "colab": {
      "name": "exercise-model-validation.ipynb",
      "provenance": [],
      "toc_visible": true,
      "include_colab_link": true
    }
  },
  "cells": [
    {
      "cell_type": "markdown",
      "metadata": {
        "id": "view-in-github",
        "colab_type": "text"
      },
      "source": [
        "<a href=\"https://colab.research.google.com/github/copev313/Housing-Prices-Predictive-Modeling/blob/introduction/model-validation.ipynb\" target=\"_parent\"><img src=\"https://colab.research.google.com/assets/colab-badge.svg\" alt=\"Open In Colab\"/></a>"
      ]
    },
    {
      "cell_type": "markdown",
      "metadata": {
        "id": "uVRcwc6JVat-"
      },
      "source": [
        "# Model Validation"
      ]
    },
    {
      "cell_type": "markdown",
      "metadata": {
        "id": "zQA3_PUjVauB"
      },
      "source": [
        "## Recap\n",
        "You've built a model. In this exercise you will test how good your model is.\n",
        "\n",
        "Run the cell below to set up your coding environment where the previous exercise left off."
      ]
    },
    {
      "cell_type": "code",
      "metadata": {
        "id": "3FkagrCzVs1_"
      },
      "source": [
        "!pip install pandas scikit-learn --quiet"
      ],
      "execution_count": 2,
      "outputs": []
    },
    {
      "cell_type": "code",
      "metadata": {
        "execution": {
          "iopub.status.busy": "2021-08-02T20:56:47.472734Z",
          "iopub.execute_input": "2021-08-02T20:56:47.473109Z",
          "iopub.status.idle": "2021-08-02T20:56:47.754146Z",
          "shell.execute_reply.started": "2021-08-02T20:56:47.473078Z",
          "shell.execute_reply": "2021-08-02T20:56:47.753171Z"
        },
        "trusted": true,
        "colab": {
          "base_uri": "https://localhost:8080/"
        },
        "id": "EnuNWLD8VauC",
        "outputId": "5feac8b2-2728-4730-9472-522fbb0648ea"
      },
      "source": [
        "import pandas as pd\n",
        "from sklearn.tree import DecisionTreeRegressor\n",
        "\n",
        "# Path of the file to read\n",
        "iowa_file_path = 'home_train.csv'\n",
        "\n",
        "home_data = pd.read_csv(iowa_file_path)\n",
        "y = home_data.SalePrice\n",
        "feature_columns = ['LotArea', 'YearBuilt', '1stFlrSF', '2ndFlrSF', 'FullBath', 'BedroomAbvGr', 'TotRmsAbvGrd']\n",
        "X = home_data[feature_columns]\n",
        "\n",
        "# Specify Model\n",
        "iowa_model = DecisionTreeRegressor()\n",
        "# Fit Model\n",
        "iowa_model.fit(X, y)\n",
        "\n",
        "print(\"First in-sample predictions:\", iowa_model.predict(X.head()))\n",
        "print(\"Actual target values for those homes:\", y.head().tolist())\n"
      ],
      "execution_count": 3,
      "outputs": [
        {
          "output_type": "stream",
          "text": [
            "First in-sample predictions: [208500. 181500. 223500. 140000. 250000.]\n",
            "Actual target values for those homes: [208500, 181500, 223500, 140000, 250000]\n"
          ],
          "name": "stdout"
        }
      ]
    },
    {
      "cell_type": "markdown",
      "metadata": {
        "id": "3XtTiKq4VauE"
      },
      "source": [
        "# Exercises\n",
        "\n",
        "## Step 1: Split Your Data\n",
        "Use the `train_test_split` function to split up your data.\n",
        "\n",
        "Give it the argument `random_state=1` so the `check` functions know what to expect when verifying your code.\n",
        "\n",
        "Recall, your features are loaded in the DataFrame **X** and your target is loaded in **y**.\n"
      ]
    },
    {
      "cell_type": "code",
      "metadata": {
        "execution": {
          "iopub.status.busy": "2021-08-02T20:58:59.578808Z",
          "iopub.execute_input": "2021-08-02T20:58:59.579196Z",
          "iopub.status.idle": "2021-08-02T20:58:59.592465Z",
          "shell.execute_reply.started": "2021-08-02T20:58:59.579163Z",
          "shell.execute_reply": "2021-08-02T20:58:59.591495Z"
        },
        "trusted": true,
        "id": "k9j5sznKVauF"
      },
      "source": [
        "from sklearn.model_selection import train_test_split\n",
        "\n",
        "train_X, val_X, train_y, val_y = train_test_split(X, y, random_state=1)\n",
        "\n"
      ],
      "execution_count": 4,
      "outputs": []
    },
    {
      "cell_type": "markdown",
      "metadata": {
        "id": "0EMF0JPqVauH"
      },
      "source": [
        "## Step 2: Specify and Fit the Model\n",
        "\n",
        "Create a `DecisionTreeRegressor` model and fit it to the relevant data.\n",
        "Set `random_state` to 1 again when creating the model."
      ]
    },
    {
      "cell_type": "code",
      "metadata": {
        "execution": {
          "iopub.status.busy": "2021-08-02T21:01:07.06416Z",
          "iopub.execute_input": "2021-08-02T21:01:07.064557Z",
          "iopub.status.idle": "2021-08-02T21:01:07.094316Z",
          "shell.execute_reply.started": "2021-08-02T21:01:07.064521Z",
          "shell.execute_reply": "2021-08-02T21:01:07.093452Z"
        },
        "trusted": true,
        "colab": {
          "base_uri": "https://localhost:8080/"
        },
        "id": "8sC3wGulVauI",
        "outputId": "32b0a2af-50a8-46a1-fdd3-1afab3409737"
      },
      "source": [
        "\n",
        "# Specify the model\n",
        "iowa_model = DecisionTreeRegressor(random_state=1)\n",
        "\n",
        "# Fit iowa_model with the training data.\n",
        "iowa_model.fit(train_X, train_y)\n"
      ],
      "execution_count": 6,
      "outputs": [
        {
          "output_type": "execute_result",
          "data": {
            "text/plain": [
              "DecisionTreeRegressor(ccp_alpha=0.0, criterion='mse', max_depth=None,\n",
              "                      max_features=None, max_leaf_nodes=None,\n",
              "                      min_impurity_decrease=0.0, min_impurity_split=None,\n",
              "                      min_samples_leaf=1, min_samples_split=2,\n",
              "                      min_weight_fraction_leaf=0.0, presort='deprecated',\n",
              "                      random_state=1, splitter='best')"
            ]
          },
          "metadata": {
            "tags": []
          },
          "execution_count": 6
        }
      ]
    },
    {
      "cell_type": "markdown",
      "metadata": {
        "id": "H4FWEaKkVauK"
      },
      "source": [
        "## Step 3: Make Predictions with Validation data\n"
      ]
    },
    {
      "cell_type": "code",
      "metadata": {
        "execution": {
          "iopub.status.busy": "2021-08-02T21:02:32.842247Z",
          "iopub.execute_input": "2021-08-02T21:02:32.8426Z",
          "iopub.status.idle": "2021-08-02T21:02:32.852927Z",
          "shell.execute_reply.started": "2021-08-02T21:02:32.842571Z",
          "shell.execute_reply": "2021-08-02T21:02:32.852211Z"
        },
        "trusted": true,
        "id": "RhhwgVm8VauL"
      },
      "source": [
        "# Predict with all validation observations\n",
        "val_predictions = iowa_model.predict(val_X)\n"
      ],
      "execution_count": 7,
      "outputs": []
    },
    {
      "cell_type": "markdown",
      "metadata": {
        "id": "7KsgPBaWVauL"
      },
      "source": [
        "Inspect your predictions and actual values from validation data."
      ]
    },
    {
      "cell_type": "code",
      "metadata": {
        "execution": {
          "iopub.status.busy": "2021-08-02T21:05:49.34697Z",
          "iopub.execute_input": "2021-08-02T21:05:49.347545Z",
          "iopub.status.idle": "2021-08-02T21:05:49.355495Z",
          "shell.execute_reply.started": "2021-08-02T21:05:49.3475Z",
          "shell.execute_reply": "2021-08-02T21:05:49.354392Z"
        },
        "trusted": true,
        "colab": {
          "base_uri": "https://localhost:8080/"
        },
        "id": "Suh01RtEVauM",
        "outputId": "f3828468-8653-457d-c4ae-ae728709df8f"
      },
      "source": [
        "# print the top few validation predictions\n",
        "print(val_predictions[:10])\n",
        "# print the top few actual prices from validation data\n",
        "print(val_y[:10])"
      ],
      "execution_count": 8,
      "outputs": [
        {
          "output_type": "stream",
          "text": [
            "[186500. 184000. 130000.  92000. 164500. 220000. 335000. 144152. 215000.\n",
            " 262000.]\n",
            "258     231500\n",
            "267     179500\n",
            "288     122000\n",
            "649      84500\n",
            "1233    142000\n",
            "167     325624\n",
            "926     285000\n",
            "831     151000\n",
            "1237    195000\n",
            "426     275000\n",
            "Name: SalePrice, dtype: int64\n"
          ],
          "name": "stdout"
        }
      ]
    },
    {
      "cell_type": "markdown",
      "metadata": {
        "id": "48JGySSDVauM"
      },
      "source": [
        "What do you notice that is different from what you saw with in-sample predictions (which are printed after the top code cell in this page).\n",
        "\n",
        "Do you remember why validation predictions differ from in-sample (or training) predictions? This is an important idea from the last lesson.\n",
        "\n",
        "## Step 4: Calculate the Mean Absolute Error in Validation Data\n"
      ]
    },
    {
      "cell_type": "code",
      "metadata": {
        "execution": {
          "iopub.status.busy": "2021-08-02T21:05:12.494608Z",
          "iopub.execute_input": "2021-08-02T21:05:12.495239Z",
          "iopub.status.idle": "2021-08-02T21:05:12.504557Z",
          "shell.execute_reply.started": "2021-08-02T21:05:12.4952Z",
          "shell.execute_reply": "2021-08-02T21:05:12.503721Z"
        },
        "trusted": true,
        "colab": {
          "base_uri": "https://localhost:8080/"
        },
        "id": "uBs5PFHYVauN",
        "outputId": "2d0f1bd3-0510-4f9a-c88d-fd6599c94fd3"
      },
      "source": [
        "from sklearn.metrics import mean_absolute_error\n",
        "val_mae = mean_absolute_error(val_y, val_predictions)\n",
        "\n",
        "# uncomment following line to see the validation_mae\n",
        "print(val_mae)\n"
      ],
      "execution_count": 9,
      "outputs": [
        {
          "output_type": "stream",
          "text": [
            "29652.931506849316\n"
          ],
          "name": "stdout"
        }
      ]
    },
    {
      "cell_type": "markdown",
      "metadata": {
        "id": "oThZt5RBVauN"
      },
      "source": [
        "Is that MAE good?  There isn't a general rule for what values are good that applies across applications. But you'll see how to use (and improve) this number in the next exercise.\n"
      ]
    }
  ]
}