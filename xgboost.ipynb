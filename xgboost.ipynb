{
  "nbformat": 4,
  "nbformat_minor": 0,
  "metadata": {
    "kernelspec": {
      "language": "python",
      "display_name": "Python 3",
      "name": "python3"
    },
    "language_info": {
      "pygments_lexer": "ipython3",
      "nbconvert_exporter": "python",
      "version": "3.6.4",
      "file_extension": ".py",
      "codemirror_mode": {
        "name": "ipython",
        "version": 3
      },
      "name": "python",
      "mimetype": "text/x-python"
    },
    "colab": {
      "name": "xgboost.ipynb",
      "provenance": [],
      "toc_visible": true,
      "include_colab_link": true
    }
  },
  "cells": [
    {
      "cell_type": "markdown",
      "metadata": {
        "id": "view-in-github",
        "colab_type": "text"
      },
      "source": [
        "<a href=\"https://colab.research.google.com/github/copev313/Housing-Prices-Predictive-Modeling/blob/intermediate/xgboost.ipynb\" target=\"_parent\"><img src=\"https://colab.research.google.com/assets/colab-badge.svg\" alt=\"Open In Colab\"/></a>"
      ]
    },
    {
      "cell_type": "markdown",
      "metadata": {
        "id": "H5PWpHAp1qBF"
      },
      "source": [
        "# XGBoost\n",
        "\n",
        "---\n"
      ]
    },
    {
      "cell_type": "markdown",
      "metadata": {
        "id": "YjFVriOv1qBI"
      },
      "source": [
        "In this exercise, you will use your new knowledge to train a model with **gradient boosting**.\n",
        "\n",
        "## Setup\n"
      ]
    },
    {
      "cell_type": "markdown",
      "metadata": {
        "id": "UiAtKUaN1qBL"
      },
      "source": [
        "You will work with the [Housing Prices Competition for Kaggle Learn Users](https://www.kaggle.com/c/home-data-for-ml-course) dataset from the previous exercise. \n",
        "\n",
        "![Ames Housing dataset image](https://i.imgur.com/lTJVG4e.png)\n",
        "\n",
        "Run the next code cell without changes to load the training and validation sets in `X_train`, `X_valid`, `y_train`, and `y_valid`.  The test set is loaded in `X_test`."
      ]
    },
    {
      "cell_type": "code",
      "metadata": {
        "execution": {
          "iopub.status.busy": "2021-08-14T17:46:35.123366Z",
          "iopub.execute_input": "2021-08-14T17:46:35.123964Z",
          "iopub.status.idle": "2021-08-14T17:46:35.34837Z",
          "shell.execute_reply.started": "2021-08-14T17:46:35.123931Z",
          "shell.execute_reply": "2021-08-14T17:46:35.347413Z"
        },
        "trusted": true,
        "id": "1vAa8mYK1qBM"
      },
      "source": [
        "import pandas as pd\n",
        "from sklearn.model_selection import train_test_split\n",
        "\n",
        "# Read the data\n",
        "X = pd.read_csv('home_train.csv', index_col='Id')\n",
        "X_test_full = pd.read_csv('home_test.csv', index_col='Id')\n",
        "\n",
        "# Remove rows with missing target, separate target from predictors\n",
        "X.dropna(axis=0, subset=['SalePrice'], inplace=True)\n",
        "y = X.SalePrice              \n",
        "X.drop(['SalePrice'], axis=1, inplace=True)\n",
        "\n",
        "# Break off validation set from training data\n",
        "X_train_full, X_valid_full, y_train, y_valid = train_test_split(X, y, \n",
        "                                                                train_size=0.8, \n",
        "                                                                test_size=0.2,\n",
        "                                                                random_state=0)\n",
        "\n",
        "# \"Cardinality\" means the number of unique values in a column\n",
        "# Select categorical columns with relatively low cardinality \n",
        "# (convenient but arbitrary)\n",
        "low_cardinality_cols = [cname for cname in X_train_full.columns\\\n",
        "                        if X_train_full[cname].nunique() < 10 and \\\n",
        "                        X_train_full[cname].dtype == \"object\"]\n",
        "\n",
        "# Select numeric columns\n",
        "numeric_cols = [cname for cname in X_train_full.columns\\\n",
        "                if X_train_full[cname].dtype in ['int64', 'float64']]\n",
        "\n",
        "# Keep selected columns only\n",
        "my_cols = low_cardinality_cols + numeric_cols\n",
        "X_train = X_train_full[my_cols].copy()\n",
        "X_valid = X_valid_full[my_cols].copy()\n",
        "X_test = X_test_full[my_cols].copy()\n",
        "\n",
        "# One-hot encode the data (to shorten the code, we use pandas)\n",
        "X_train = pd.get_dummies(X_train)\n",
        "X_valid = pd.get_dummies(X_valid)\n",
        "X_test = pd.get_dummies(X_test)\n",
        "X_train, X_valid = X_train.align(X_valid, join='left', axis=1)\n",
        "X_train, X_test = X_train.align(X_test, join='left', axis=1)"
      ],
      "execution_count": 9,
      "outputs": []
    },
    {
      "cell_type": "markdown",
      "metadata": {
        "id": "EbQm2Pou1qBN"
      },
      "source": [
        "---\n",
        "\n",
        "## Step 1: Build Model\n",
        "\n",
        "### Part A\n",
        "\n",
        "In this step, you'll build and train your first model with gradient boosting.\n",
        "\n",
        "- Begin by setting `my_model_1` to an XGBoost model.  Use the [XGBRegressor](https://xgboost.readthedocs.io/en/latest/python/python_api.html#xgboost.XGBRegressor) class, and set the random seed to 0 (`random_state=0`).  **Leave all other parameters as default.**\n",
        "- Then, fit the model to the training data in `X_train` and `y_train`."
      ]
    },
    {
      "cell_type": "code",
      "metadata": {
        "execution": {
          "iopub.status.busy": "2021-08-14T17:47:52.024081Z",
          "iopub.execute_input": "2021-08-14T17:47:52.024427Z",
          "iopub.status.idle": "2021-08-14T17:47:52.689858Z",
          "shell.execute_reply.started": "2021-08-14T17:47:52.024384Z",
          "shell.execute_reply": "2021-08-14T17:47:52.688919Z"
        },
        "trusted": true,
        "colab": {
          "base_uri": "https://localhost:8080/"
        },
        "id": "Eh0dAzTw1qBO",
        "outputId": "bb72b260-cb9d-4de7-c85c-1460f27eb77d"
      },
      "source": [
        "from xgboost import XGBRegressor\n",
        "\n",
        "# Define the model\n",
        "my_model_1 = XGBRegressor(random_state = 0)\n",
        "\n",
        "# Fit the model\n",
        "my_model_1.fit(X_train, y_train)\n"
      ],
      "execution_count": 10,
      "outputs": [
        {
          "output_type": "stream",
          "text": [
            "[16:45:01] WARNING: /workspace/src/objective/regression_obj.cu:152: reg:linear is now deprecated in favor of reg:squarederror.\n"
          ],
          "name": "stdout"
        },
        {
          "output_type": "execute_result",
          "data": {
            "text/plain": [
              "XGBRegressor(base_score=0.5, booster='gbtree', colsample_bylevel=1,\n",
              "             colsample_bynode=1, colsample_bytree=1, gamma=0,\n",
              "             importance_type='gain', learning_rate=0.1, max_delta_step=0,\n",
              "             max_depth=3, min_child_weight=1, missing=None, n_estimators=100,\n",
              "             n_jobs=1, nthread=None, objective='reg:linear', random_state=0,\n",
              "             reg_alpha=0, reg_lambda=1, scale_pos_weight=1, seed=None,\n",
              "             silent=None, subsample=1, verbosity=1)"
            ]
          },
          "metadata": {
            "tags": []
          },
          "execution_count": 10
        }
      ]
    },
    {
      "cell_type": "markdown",
      "metadata": {
        "id": "ydhTM8lB1qBQ"
      },
      "source": [
        "### Part B\n",
        "\n",
        "Set `predictions_1` to the model's predictions for the validation data.  Recall that the validation features are stored in `X_valid`."
      ]
    },
    {
      "cell_type": "code",
      "metadata": {
        "execution": {
          "iopub.status.busy": "2021-08-14T17:48:41.665925Z",
          "iopub.execute_input": "2021-08-14T17:48:41.666419Z",
          "iopub.status.idle": "2021-08-14T17:48:41.683175Z",
          "shell.execute_reply.started": "2021-08-14T17:48:41.666389Z",
          "shell.execute_reply": "2021-08-14T17:48:41.68246Z"
        },
        "trusted": true,
        "id": "AGheZUap1qBS"
      },
      "source": [
        "from sklearn.metrics import mean_absolute_error\n",
        "\n",
        "# Get predictions\n",
        "predictions_1 = my_model_1.predict(X_valid)\n"
      ],
      "execution_count": 11,
      "outputs": []
    },
    {
      "cell_type": "markdown",
      "metadata": {
        "id": "ygnfK8H01qBS"
      },
      "source": [
        "### Part C\n",
        "\n",
        "Finally, use the `mean_absolute_error()` function to calculate the mean absolute error (MAE) corresponding to the predictions for the validation set.  Recall that the labels for the validation data are stored in `y_valid`."
      ]
    },
    {
      "cell_type": "code",
      "metadata": {
        "execution": {
          "iopub.status.busy": "2021-08-14T17:49:29.624355Z",
          "iopub.execute_input": "2021-08-14T17:49:29.624738Z",
          "iopub.status.idle": "2021-08-14T17:49:29.634723Z",
          "shell.execute_reply.started": "2021-08-14T17:49:29.624706Z",
          "shell.execute_reply": "2021-08-14T17:49:29.633739Z"
        },
        "trusted": true,
        "colab": {
          "base_uri": "https://localhost:8080/"
        },
        "id": "BrKfRjTe1qBT",
        "outputId": "55e3d0ad-4c35-46fd-f123-ca45c6e34718"
      },
      "source": [
        "# Calculate MAE\n",
        "mae_1 = mean_absolute_error(y_valid, predictions_1)\n",
        "\n",
        "# Uncomment to print MAE\n",
        "print(\"Mean Absolute Error:\" , mae_1)\n"
      ],
      "execution_count": 12,
      "outputs": [
        {
          "output_type": "stream",
          "text": [
            "Mean Absolute Error: 16803.434690710616\n"
          ],
          "name": "stdout"
        }
      ]
    },
    {
      "cell_type": "markdown",
      "metadata": {
        "id": "JWe5Hmsv1qBU"
      },
      "source": [
        "---\n",
        "\n",
        "## Step 2: Improve the Model\n",
        "\n",
        "Now that you've trained a default model as baseline, it's time to tinker with the parameters, to see if you can get better performance!\n",
        "- Begin by setting `my_model_2` to an XGBoost model, using the [XGBRegressor](https://xgboost.readthedocs.io/en/latest/python/python_api.html#xgboost.XGBRegressor) class.  Use what you learned in the previous tutorial to figure out how to change the default parameters (like `n_estimators` and `learning_rate`) to get better results.\n",
        "- Then, fit the model to the training data in `X_train` and `y_train`.\n",
        "- Set `predictions_2` to the model's predictions for the validation data.  Recall that the validation features are stored in `X_valid`.\n",
        "- Finally, use the `mean_absolute_error()` function to calculate the mean absolute error (MAE) corresponding to the predictions on the validation set.  Recall that the labels for the validation data are stored in `y_valid`.\n",
        "\n",
        "In order for this step to be marked correct, your model in `my_model_2` must attain lower MAE than the model in `my_model_1`. "
      ]
    },
    {
      "cell_type": "code",
      "metadata": {
        "execution": {
          "iopub.status.busy": "2021-08-14T17:56:56.167782Z",
          "iopub.execute_input": "2021-08-14T17:56:56.168085Z",
          "iopub.status.idle": "2021-08-14T17:56:58.82342Z",
          "shell.execute_reply.started": "2021-08-14T17:56:56.16806Z",
          "shell.execute_reply": "2021-08-14T17:56:58.822507Z"
        },
        "trusted": true,
        "colab": {
          "base_uri": "https://localhost:8080/"
        },
        "id": "X1hmFA3_1qBV",
        "outputId": "9f203d7b-e807-4643-9d5d-d2d1a444d76e"
      },
      "source": [
        "# Define the model\n",
        "my_model_2 = XGBRegressor(\n",
        "    n_estimators=500,\n",
        "    learning_rate=0.025\n",
        ")\n",
        "\n",
        "# Fit the model\n",
        "my_model_2.fit(\n",
        "    X_train, y_train,\n",
        "    early_stopping_rounds=5,\n",
        "    eval_set=[(X_valid, y_valid)],\n",
        "    verbose=False\n",
        ")\n",
        "\n",
        "# Get predictions\n",
        "predictions_2 = my_model_2.predict(X_valid)\n",
        "\n",
        "# Calculate MAE\n",
        "mae_2 = mean_absolute_error(y_valid, predictions_2)\n",
        "\n",
        "# Uncomment to print MAE\n",
        "print(\"Mean Absolute Error:\" , mae_2)\n"
      ],
      "execution_count": 13,
      "outputs": [
        {
          "output_type": "stream",
          "text": [
            "[16:45:01] WARNING: /workspace/src/objective/regression_obj.cu:152: reg:linear is now deprecated in favor of reg:squarederror.\n",
            "Mean Absolute Error: 17801.80974422089\n"
          ],
          "name": "stdout"
        }
      ]
    },
    {
      "cell_type": "markdown",
      "metadata": {
        "id": "BWT6pFoe1qBV"
      },
      "source": [
        "---\n",
        "\n",
        "## Step 3: Break the Model\n",
        "\n",
        "In this step, you will create a model that performs worse than the original model in Step 1.  This will help you to develop your intuition for how to set parameters.  You might even find that you accidentally get better performance, which is ultimately a nice problem to have and a valuable learning experience!\n",
        "- Begin by setting `my_model_3` to an XGBoost model, using the [XGBRegressor](https://xgboost.readthedocs.io/en/latest/python/python_api.html#xgboost.XGBRegressor) class.  Use what you learned in the previous tutorial to figure out how to change the default parameters (like `n_estimators` and `learning_rate`) to design a model to get high MAE.\n",
        "- Then, fit the model to the training data in `X_train` and `y_train`.\n",
        "- Set `predictions_3` to the model's predictions for the validation data.  Recall that the validation features are stored in `X_valid`.\n",
        "- Finally, use the `mean_absolute_error()` function to calculate the mean absolute error (MAE) corresponding to the predictions on the validation set.  Recall that the labels for the validation data are stored in `y_valid`.\n",
        "\n",
        "In order for this step to be marked correct, your model in `my_model_3` must attain higher MAE than the model in `my_model_1`. "
      ]
    },
    {
      "cell_type": "code",
      "metadata": {
        "execution": {
          "iopub.status.busy": "2021-08-14T18:03:18.085102Z",
          "iopub.execute_input": "2021-08-14T18:03:18.085443Z",
          "iopub.status.idle": "2021-08-14T18:03:18.417036Z",
          "shell.execute_reply.started": "2021-08-14T18:03:18.085412Z",
          "shell.execute_reply": "2021-08-14T18:03:18.416078Z"
        },
        "trusted": true,
        "colab": {
          "base_uri": "https://localhost:8080/"
        },
        "id": "Q0UB82yU1qBW",
        "outputId": "db3f535d-9cb1-4c18-9fb0-62110fb2c513"
      },
      "source": [
        "# Define the model\n",
        "my_model_3 = XGBRegressor(n_estimators=50)\n",
        "\n",
        "# Fit the model\n",
        "my_model_3.fit(\n",
        "    X_train, y_train,\n",
        "    early_stopping_rounds=2,\n",
        "    eval_set=[(X_valid, y_valid)],\n",
        "    verbose=False\n",
        ")\n",
        "\n",
        "# Get predictions\n",
        "predictions_3 = my_model_3.predict(X_valid)\n",
        "\n",
        "# Calculate MAE\n",
        "mae_3 = mean_absolute_error(y_valid, predictions_3)\n",
        "\n",
        "# Uncomment to print MAE\n",
        "print(\"Mean Absolute Error:\" , mae_3)\n"
      ],
      "execution_count": 14,
      "outputs": [
        {
          "output_type": "stream",
          "text": [
            "[16:45:03] WARNING: /workspace/src/objective/regression_obj.cu:152: reg:linear is now deprecated in favor of reg:squarederror.\n",
            "Mean Absolute Error: 17748.03055436644\n"
          ],
          "name": "stdout"
        }
      ]
    },
    {
      "cell_type": "markdown",
      "metadata": {
        "id": "0Sl3PS9Y1qBW"
      },
      "source": [
        "# Keep going\n",
        "\n",
        "Continue to learn about **[data leakage](https://www.kaggle.com/alexisbcook/data-leakage)**.  This is an important issue for a data scientist to understand, and it has the potential to ruin your models in subtle and dangerous ways!"
      ]
    },
    {
      "cell_type": "markdown",
      "metadata": {
        "id": "8u8ufl2g1qBX"
      },
      "source": [
        "---\n",
        "\n",
        "\n",
        "\n",
        "\n",
        "*Have questions or comments? Visit the [Learn Discussion forum](https://www.kaggle.com/learn-forum/161289) to chat with other Learners.*"
      ]
    }
  ]
}