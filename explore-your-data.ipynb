{
  "nbformat": 4,
  "nbformat_minor": 0,
  "metadata": {
    "kernelspec": {
      "language": "python",
      "display_name": "Python 3",
      "name": "python3"
    },
    "language_info": {
      "pygments_lexer": "ipython3",
      "nbconvert_exporter": "python",
      "version": "3.6.4",
      "file_extension": ".py",
      "codemirror_mode": {
        "name": "ipython",
        "version": 3
      },
      "name": "python",
      "mimetype": "text/x-python"
    },
    "colab": {
      "name": "explore-your-data.ipynb",
      "provenance": [],
      "collapsed_sections": [],
      "include_colab_link": true
    }
  },
  "cells": [
    {
      "cell_type": "markdown",
      "metadata": {
        "id": "view-in-github",
        "colab_type": "text"
      },
      "source": [
        "<a href=\"https://colab.research.google.com/github/copev313/Housing-Prices-Predictive-Modeling/blob/introduction/explore-your-data.ipynb\" target=\"_parent\"><img src=\"https://colab.research.google.com/assets/colab-badge.svg\" alt=\"Open In Colab\"/></a>"
      ]
    },
    {
      "cell_type": "markdown",
      "metadata": {
        "id": "mkjk1qRGA2qG"
      },
      "source": [
        "# Basic Data Exploration\n"
      ]
    },
    {
      "cell_type": "markdown",
      "metadata": {
        "id": "FE4GNIjeA2qK"
      },
      "source": [
        "This exercise will test your ability to read a data file and understand statistics about the data.\n",
        "\n",
        "In later exercises, you will apply techniques to filter the data, build a machine learning model, and iteratively improve your model.\n",
        "\n",
        "The course examples use data from Melbourne. To ensure you can apply these techniques on your own, you will have to apply them to a new dataset (with house prices from Iowa).\n",
        "\n",
        "# Exercises\n"
      ]
    },
    {
      "cell_type": "code",
      "metadata": {
        "id": "YR6VJjK-BnMZ"
      },
      "source": [
        "!pip install pandas --quiet"
      ],
      "execution_count": 1,
      "outputs": []
    },
    {
      "cell_type": "markdown",
      "metadata": {
        "id": "z6YoJZCOA2qM"
      },
      "source": [
        "## Step 1: Loading Data\n",
        "Read the Iowa data file into a Pandas DataFrame called `home_data`."
      ]
    },
    {
      "cell_type": "code",
      "metadata": {
        "execution": {
          "iopub.status.busy": "2021-08-05T14:57:18.457708Z",
          "iopub.execute_input": "2021-08-05T14:57:18.458106Z",
          "iopub.status.idle": "2021-08-05T14:57:18.513658Z",
          "shell.execute_reply.started": "2021-08-05T14:57:18.458073Z",
          "shell.execute_reply": "2021-08-05T14:57:18.512605Z"
        },
        "trusted": true,
        "id": "9AvCxNmlA2qN"
      },
      "source": [
        "import pandas as pd\n",
        "\n",
        "# Path of the file to read\n",
        "iowa_file_path = 'train.csv'\n",
        "\n",
        "# Fill in the line below to read the file into a variable home_data\n",
        "home_data = pd.read_csv(iowa_file_path)\n"
      ],
      "execution_count": 2,
      "outputs": []
    },
    {
      "cell_type": "markdown",
      "metadata": {
        "id": "WM93xcNBA2qO"
      },
      "source": [
        "## Step 2: Review The Data\n",
        "Use the command you learned to view summary statistics of the data. Then fill in variables to answer the following questions"
      ]
    },
    {
      "cell_type": "code",
      "metadata": {
        "execution": {
          "iopub.status.busy": "2021-08-05T14:59:25.924313Z",
          "iopub.execute_input": "2021-08-05T14:59:25.924672Z",
          "iopub.status.idle": "2021-08-05T14:59:26.05596Z",
          "shell.execute_reply.started": "2021-08-05T14:59:25.924643Z",
          "shell.execute_reply": "2021-08-05T14:59:26.054765Z"
        },
        "trusted": true,
        "colab": {
          "base_uri": "https://localhost:8080/"
        },
        "id": "00G1XvtNA2qQ",
        "outputId": "31b6aa9e-a4c8-4f65-c637-3b5180d0f88f"
      },
      "source": [
        "# Print summary statistics:\n",
        "print(home_data.describe())"
      ],
      "execution_count": 3,
      "outputs": [
        {
          "output_type": "stream",
          "text": [
            "                Id   MSSubClass  ...       YrSold      SalePrice\n",
            "count  1460.000000  1460.000000  ...  1460.000000    1460.000000\n",
            "mean    730.500000    56.897260  ...  2007.815753  180921.195890\n",
            "std     421.610009    42.300571  ...     1.328095   79442.502883\n",
            "min       1.000000    20.000000  ...  2006.000000   34900.000000\n",
            "25%     365.750000    20.000000  ...  2007.000000  129975.000000\n",
            "50%     730.500000    50.000000  ...  2008.000000  163000.000000\n",
            "75%    1095.250000    70.000000  ...  2009.000000  214000.000000\n",
            "max    1460.000000   190.000000  ...  2010.000000  755000.000000\n",
            "\n",
            "[8 rows x 38 columns]\n"
          ],
          "name": "stdout"
        }
      ]
    },
    {
      "cell_type": "markdown",
      "metadata": {
        "id": "XMJEx862A2qS"
      },
      "source": [
        "## Think About Your Data\n",
        "\n",
        "The newest house in your data isn't that new.  A few potential explanations for this:\n",
        "1. They haven't built new houses where this data was collected.\n",
        "2. The data was collected a long time ago. Houses built after the data publication wouldn't show up.\n",
        "\n"
      ]
    }
  ]
}