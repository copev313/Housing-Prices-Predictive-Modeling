{
  "nbformat": 4,
  "nbformat_minor": 0,
  "metadata": {
    "kernelspec": {
      "language": "python",
      "display_name": "Python 3",
      "name": "python3"
    },
    "language_info": {
      "pygments_lexer": "ipython3",
      "nbconvert_exporter": "python",
      "version": "3.6.4",
      "file_extension": ".py",
      "codemirror_mode": {
        "name": "ipython",
        "version": 3
      },
      "name": "python",
      "mimetype": "text/x-python"
    },
    "colab": {
      "name": "data-leakage.ipynb",
      "provenance": [],
      "include_colab_link": true
    }
  },
  "cells": [
    {
      "cell_type": "markdown",
      "metadata": {
        "id": "view-in-github",
        "colab_type": "text"
      },
      "source": [
        "<a href=\"https://colab.research.google.com/github/copev313/Housing-Prices-Predictive-Modeling/blob/intermediate/data-leakage.ipynb\" target=\"_parent\"><img src=\"https://colab.research.google.com/assets/colab-badge.svg\" alt=\"Open In Colab\"/></a>"
      ]
    },
    {
      "cell_type": "markdown",
      "metadata": {
        "id": "NyBeAtMl3ZiF"
      },
      "source": [
        "# Data Leakage\n",
        "\n",
        "---\n"
      ]
    },
    {
      "cell_type": "markdown",
      "metadata": {
        "id": "Y3vyEAhV3ZiI"
      },
      "source": [
        "Most people find target leakage very tricky until they've thought about it for a long time.\n",
        "\n",
        "So, before trying to think about leakage in the housing price example, we'll go through a few examples in other applications. Things will feel more familiar once you come back to a question about house prices.\n"
      ]
    },
    {
      "cell_type": "markdown",
      "metadata": {
        "id": "w48jSOsh3ZiL"
      },
      "source": [
        "---\n",
        "\n",
        "## Step 1: The Data Science of Shoelaces\n",
        "\n",
        "Nike has hired you as a data science consultant to help them save money on shoe materials. Your first assignment is to review a model one of their employees built to predict how many shoelaces they'll need each month. The features going into the machine learning model include:\n",
        "- The current month (January, February, etc)\n",
        "- Advertising expenditures in the previous month\n",
        "- Various macroeconomic features (like the unemployment rate) as of the beginning of the current month\n",
        "- The amount of leather they ended up using in the current month\n",
        "\n",
        "The results show the model is almost perfectly accurate if you include the feature about how much leather they used. But it is only moderately accurate if you leave that feature out. You realize this is because the amount of leather they use is a perfect indicator of how many shoes they produce, which in turn tells you how many shoelaces they need.\n",
        "\n",
        "Do you think the _leather used_ feature constitutes a source of data leakage? If your answer is \"it depends,\" what does it depend on?\n"
      ]
    },
    {
      "cell_type": "markdown",
      "metadata": {
        "id": "1jXKofKw3ZiM"
      },
      "source": [
        "---\n",
        "\n",
        "## Step 2: Return of the Shoelaces\n",
        "\n",
        "You have a new idea. You could use the amount of leather Nike ordered (rather than the amount they actually used) leading up to a given month as a predictor in your shoelace model.\n",
        "\n",
        "Does this change your answer about whether there is a leakage problem? If you answer \"it depends,\" what does it depend on?"
      ]
    },
    {
      "cell_type": "markdown",
      "metadata": {
        "id": "aUa3oZcb3ZiO"
      },
      "source": [
        "---\n",
        "\n",
        "## Step 3: Getting Rich With Cryptocurrencies?\n",
        "\n",
        "You saved Nike so much money that they gave you a bonus. Congratulations.\n",
        "\n",
        "Your friend, who is also a data scientist, says he has built a model that will let you turn your bonus into millions of dollars. Specifically, his model predicts the price of a new cryptocurrency (like Bitcoin, but a newer one) one day ahead of the moment of prediction. His plan is to purchase the cryptocurrency whenever the model says the price of the currency (in dollars) is about to go up.\n",
        "\n",
        "The most important features in his model are:\n",
        "- Current price of the currency\n",
        "- Amount of the currency sold in the last 24 hours\n",
        "- Change in the currency price in the last 24 hours\n",
        "- Change in the currency price in the last 1 hour\n",
        "- Number of new tweets in the last 24 hours that mention the currency\n",
        "\n",
        "The value of the cryptocurrency in dollars has fluctuated up and down by over $\\$$100 in the last year, and yet his model's average error is less than $\\$$1. He says this is proof his model is accurate, and you should invest with him, buying the currency whenever the model says it is about to go up.\n",
        "\n",
        "Is he right? If there is a problem with his model, what is it?"
      ]
    },
    {
      "cell_type": "markdown",
      "metadata": {
        "id": "wJ0swPYu3ZiR"
      },
      "source": [
        "---\n",
        "\n",
        "## Step 4: Preventing Infections\n",
        "\n",
        "An agency that provides healthcare wants to predict which patients from a rare surgery are at risk of infection, so it can alert the nurses to be especially careful when following up with those patients.\n",
        "\n",
        "You want to build a model. Each row in the modeling dataset will be a single patient who received the surgery, and the prediction target will be whether they got an infection.\n",
        "\n",
        "Some surgeons may do the procedure in a manner that raises or lowers the risk of infection. But how can you best incorporate the surgeon information into the model?\n",
        "\n",
        "You have a clever idea. \n",
        "1. Take all surgeries by each surgeon and calculate the infection rate among those surgeons.\n",
        "2. For each patient in the data, find out who the surgeon was and plug in that surgeon's average infection rate as a feature.\n",
        "\n",
        "Does this pose any target leakage issues?\n",
        "Does it pose any train-test contamination issues?"
      ]
    },
    {
      "cell_type": "markdown",
      "metadata": {
        "id": "qN1s8moL3ZiT"
      },
      "source": [
        "---\n",
        "\n",
        "## Step 5: Housing Prices\n",
        "\n",
        "You will build a model to predict housing prices.  The model will be deployed on an ongoing basis, to predict the price of a new house when a description is added to a website.  Here are four features that could be used as predictors.\n",
        "1. Size of the house (in square meters)\n",
        "2. Average sales price of homes in the same neighborhood\n",
        "3. Latitude and longitude of the house\n",
        "4. Whether the house has a basement\n",
        "\n",
        "You have historic data to train and validate the model.\n",
        "\n",
        "Which of the features is most likely to be a source of leakage?"
      ]
    },
    {
      "cell_type": "code",
      "metadata": {
        "execution": {
          "iopub.status.busy": "2021-08-14T18:47:51.387479Z",
          "iopub.execute_input": "2021-08-14T18:47:51.387975Z",
          "iopub.status.idle": "2021-08-14T18:47:51.399119Z",
          "shell.execute_reply.started": "2021-08-14T18:47:51.387883Z",
          "shell.execute_reply": "2021-08-14T18:47:51.398008Z"
        },
        "trusted": true,
        "id": "DI3hFbij3ZiT"
      },
      "source": [
        "# Fill in the line below with one of 1, 2, 3 or 4.\n",
        "potential_leakage_feature = 2\n"
      ],
      "execution_count": 1,
      "outputs": []
    },
    {
      "cell_type": "markdown",
      "metadata": {
        "id": "YkKVW-9K3ZiU"
      },
      "source": [
        "---\n",
        "\n",
        "## Conclusion\n",
        "Leakage is a hard and subtle issue. You should be proud if you picked up on the issues in these examples.\n",
        "\n",
        "Now you have the tools to make highly accurate models, and pick up on the most difficult practical problems that arise with applying these models to solve real problems.\n",
        "\n",
        "There is still a lot of room to build knowledge and experience. Try out a [Competition](https://www.kaggle.com/competitions) or look through our [Datasets](https://kaggle.com/datasets) to practice your new skills."
      ]
    }
  ]
}