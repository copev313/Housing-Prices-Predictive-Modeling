{
  "nbformat": 4,
  "nbformat_minor": 2,
  "metadata": {
    "kernelspec": {
      "name": "python3",
      "display_name": "Python 3.8.5 64-bit ('base': conda)"
    },
    "language_info": {
      "pygments_lexer": "ipython3",
      "nbconvert_exporter": "python",
      "version": "3.8.5",
      "file_extension": ".py",
      "codemirror_mode": {
        "name": "ipython",
        "version": 3
      },
      "name": "python",
      "mimetype": "text/x-python"
    },
    "colab": {
      "name": "random-forests.ipynb",
      "provenance": [],
      "include_colab_link": true
    },
    "interpreter": {
      "hash": "477af6dc7db3e07bba4a82181506cd1ea8c5d1ba778f52f96c06a72a0ad16534"
    }
  },
  "cells": [
    {
      "cell_type": "markdown",
      "source": [
        "<a href=\"https://colab.research.google.com/github/copev313/Housing-Prices-Predictive-Modeling/blob/introduction/random-forests.ipynb\" target=\"_parent\"><img src=\"https://colab.research.google.com/assets/colab-badge.svg\" alt=\"Open In Colab\"/></a>"
      ],
      "metadata": {
        "id": "view-in-github",
        "colab_type": "text"
      }
    },
    {
      "cell_type": "markdown",
      "source": [
        "# Random Forests\n"
      ],
      "metadata": {
        "id": "pusam3QZc2CO"
      }
    },
    {
      "cell_type": "markdown",
      "source": [
        "## Recap\n",
        "Here's the code you've written so far."
      ],
      "metadata": {
        "id": "1QW8g60Qc2CP"
      }
    },
    {
      "cell_type": "code",
      "execution_count": 1,
      "source": [
        "#!pip install pandas scikit-learn --quiet"
      ],
      "outputs": [],
      "metadata": {
        "id": "59x3uhR3dVBa"
      }
    },
    {
      "cell_type": "code",
      "execution_count": 2,
      "source": [
        "import pandas as pd\r\n",
        "from sklearn.metrics import mean_absolute_error\r\n",
        "from sklearn.model_selection import train_test_split\r\n",
        "from sklearn.tree import DecisionTreeRegressor\r\n",
        "\r\n",
        "\r\n",
        "home_data = pd.read_csv('home_train.csv')\r\n",
        "\r\n",
        "# Create target object and call it y\r\n",
        "y = home_data.SalePrice\r\n",
        "\r\n",
        "# Create X\r\n",
        "features = ['LotArea', 'YearBuilt', '1stFlrSF', '2ndFlrSF', \r\n",
        "            'FullBath', 'BedroomAbvGr', 'TotRmsAbvGrd']\r\n",
        "X = home_data[features]\r\n",
        "\r\n",
        "# Split into validation and training data\r\n",
        "train_X, val_X, train_y, val_y = train_test_split(X, y, random_state=1)\r\n",
        "\r\n",
        "# Specify Model\r\n",
        "iowa_model = DecisionTreeRegressor(random_state=1)\r\n",
        "# Fit Model\r\n",
        "iowa_model.fit(train_X, train_y)\r\n",
        "\r\n",
        "# Make validation predictions and calculate mean absolute error\r\n",
        "val_predictions = iowa_model.predict(val_X)\r\n",
        "val_mae = mean_absolute_error(val_predictions, val_y)\r\n",
        "print(\"Validation MAE when not specifying max_leaf_nodes: {:,.0f}\".format(val_mae))\r\n",
        "\r\n",
        "# Using best value for max_leaf_nodes\r\n",
        "iowa_model = DecisionTreeRegressor(max_leaf_nodes=100, random_state=1)\r\n",
        "iowa_model.fit(train_X, train_y)\r\n",
        "val_predictions = iowa_model.predict(val_X)\r\n",
        "val_mae = mean_absolute_error(val_predictions, val_y)\r\n",
        "print(\"Validation MAE for best value of max_leaf_nodes: {:,.0f}\".format(val_mae))\r\n"
      ],
      "outputs": [
        {
          "output_type": "stream",
          "name": "stdout",
          "text": [
            "Validation MAE when not specifying max_leaf_nodes: 29,653\n",
            "Validation MAE for best value of max_leaf_nodes: 27,283\n"
          ]
        }
      ],
      "metadata": {
        "execution": {
          "iopub.status.busy": "2021-08-04T16:56:17.098186Z",
          "iopub.execute_input": "2021-08-04T16:56:17.098743Z",
          "iopub.status.idle": "2021-08-04T16:56:18.567252Z",
          "shell.execute_reply.started": "2021-08-04T16:56:17.098662Z",
          "shell.execute_reply": "2021-08-04T16:56:18.566272Z"
        },
        "trusted": true,
        "colab": {
          "base_uri": "https://localhost:8080/"
        },
        "id": "szM81XOpc2CQ",
        "outputId": "87da0657-4018-45dc-ded7-dfb9728ccd5c"
      }
    },
    {
      "cell_type": "markdown",
      "source": [
        "# Exercises\n",
        "Data science isn't always this easy. But replacing the decision tree with a Random Forest is going to be an easy win."
      ],
      "metadata": {
        "id": "cN1NIY5pc2CR"
      }
    },
    {
      "cell_type": "markdown",
      "source": [
        "## Step 1: Use a Random Forest"
      ],
      "metadata": {
        "id": "ropVjTEAc2CR"
      }
    },
    {
      "cell_type": "code",
      "execution_count": 3,
      "source": [
        "from sklearn.ensemble import RandomForestRegressor\r\n",
        "\r\n",
        "\r\n",
        "# Define the model. Set random_state to 1\r\n",
        "rf_model = RandomForestRegressor(random_state=1)\r\n",
        "\r\n",
        "# fit your model\r\n",
        "rf_model.fit(train_X, train_y)\r\n",
        "\r\n",
        "# Calculate the mean absolute error of your Random Forest model on the validation data\r\n",
        "pred = rf_model.predict(val_X)\r\n",
        "rf_val_mae = mean_absolute_error(pred, val_y)\r\n",
        "\r\n",
        "print(\"Validation MAE for Random Forest Model: {}\".format(rf_val_mae))\r\n"
      ],
      "outputs": [
        {
          "output_type": "stream",
          "name": "stdout",
          "text": [
            "Validation MAE for Random Forest Model: 21857.15912981083\n"
          ]
        }
      ],
      "metadata": {
        "execution": {
          "iopub.status.busy": "2021-08-04T17:01:58.230369Z",
          "iopub.execute_input": "2021-08-04T17:01:58.230745Z",
          "iopub.status.idle": "2021-08-04T17:01:58.794545Z",
          "shell.execute_reply.started": "2021-08-04T17:01:58.230716Z",
          "shell.execute_reply": "2021-08-04T17:01:58.793596Z"
        },
        "trusted": true,
        "colab": {
          "base_uri": "https://localhost:8080/"
        },
        "id": "xjormrhJc2CR",
        "outputId": "03559478-97f0-4a0e-bb77-8f800118f008"
      }
    },
    {
      "cell_type": "markdown",
      "source": [
        "So far, you have followed specific instructions at each step of your project. This helped learn key ideas and build your first model, but now you know enough to try things on your own. \n"
      ],
      "metadata": {
        "id": "0XQ9IAQjc2CS"
      }
    }
  ]
}