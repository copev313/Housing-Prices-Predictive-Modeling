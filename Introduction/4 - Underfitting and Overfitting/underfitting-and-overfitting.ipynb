{
  "nbformat": 4,
  "nbformat_minor": 2,
  "metadata": {
    "kernelspec": {
      "name": "python3",
      "display_name": "Python 3.8.5 64-bit ('base': conda)"
    },
    "language_info": {
      "pygments_lexer": "ipython3",
      "nbconvert_exporter": "python",
      "version": "3.8.5",
      "file_extension": ".py",
      "codemirror_mode": {
        "name": "ipython",
        "version": 3
      },
      "name": "python",
      "mimetype": "text/x-python"
    },
    "colab": {
      "name": "exercise-underfitting-and-overfitting.ipynb",
      "provenance": [],
      "include_colab_link": true
    },
    "interpreter": {
      "hash": "477af6dc7db3e07bba4a82181506cd1ea8c5d1ba778f52f96c06a72a0ad16534"
    }
  },
  "cells": [
    {
      "cell_type": "markdown",
      "source": [
        "<a href=\"https://colab.research.google.com/github/copev313/Housing-Prices-Predictive-Modeling/blob/introduction/underfitting-and-overfitting.ipynb\" target=\"_parent\"><img src=\"https://colab.research.google.com/assets/colab-badge.svg\" alt=\"Open In Colab\"/></a>"
      ],
      "metadata": {
        "id": "view-in-github",
        "colab_type": "text"
      }
    },
    {
      "cell_type": "markdown",
      "source": [
        "# Overfitting & Underfitting\n"
      ],
      "metadata": {
        "id": "ykDao_B9Y6NJ"
      }
    },
    {
      "cell_type": "markdown",
      "source": [
        "## Recap\n",
        "You've built your first model, and now it's time to optimize the size of the tree to make better predictions. Run this cell to set up your coding environment where the previous step left off."
      ],
      "metadata": {
        "id": "Trjl-fG2Y6NK"
      }
    },
    {
      "cell_type": "code",
      "execution_count": 1,
      "source": [
        "#!pip install pandas scikit-learn --quiet"
      ],
      "outputs": [],
      "metadata": {
        "id": "11w2ElhjZOK2"
      }
    },
    {
      "cell_type": "code",
      "execution_count": 2,
      "source": [
        "import pandas as pd\r\n",
        "from sklearn.metrics import mean_absolute_error\r\n",
        "from sklearn.model_selection import train_test_split\r\n",
        "from sklearn.tree import DecisionTreeRegressor\r\n",
        "\r\n",
        "\r\n",
        "home_data = pd.read_csv('home_train.csv')\r\n",
        "# Create target object and call it y\r\n",
        "y = home_data.SalePrice\r\n",
        "# Create X\r\n",
        "features = ['LotArea', 'YearBuilt', '1stFlrSF', '2ndFlrSF', 'FullBath', 'BedroomAbvGr', 'TotRmsAbvGrd']\r\n",
        "X = home_data[features]\r\n",
        "\r\n",
        "# Split into validation and training data\r\n",
        "train_X, val_X, train_y, val_y = train_test_split(X, y, random_state=1)\r\n",
        "\r\n",
        "# Specify Model\r\n",
        "iowa_model = DecisionTreeRegressor(random_state=1)\r\n",
        "# Fit Model\r\n",
        "iowa_model.fit(train_X, train_y)\r\n",
        "\r\n",
        "# Make validation predictions and calculate mean absolute error\r\n",
        "val_predictions = iowa_model.predict(val_X)\r\n",
        "val_mae = mean_absolute_error(val_predictions, val_y)\r\n",
        "print(\"Validation MAE: {:,.0f}\".format(val_mae))\r\n"
      ],
      "outputs": [
        {
          "output_type": "stream",
          "name": "stdout",
          "text": [
            "Validation MAE: 29,653\n"
          ]
        }
      ],
      "metadata": {
        "execution": {
          "iopub.status.busy": "2021-08-04T16:37:30.764472Z",
          "iopub.execute_input": "2021-08-04T16:37:30.765055Z",
          "iopub.status.idle": "2021-08-04T16:37:31.94608Z",
          "shell.execute_reply.started": "2021-08-04T16:37:30.765023Z",
          "shell.execute_reply": "2021-08-04T16:37:31.945126Z"
        },
        "trusted": true,
        "colab": {
          "base_uri": "https://localhost:8080/"
        },
        "id": "B7XrBOzSY6NM",
        "outputId": "fa8650a1-3f92-4691-cd53-df33dc600cbc"
      }
    },
    {
      "cell_type": "markdown",
      "source": [
        "# Exercises\n",
        "You could write the function `get_mae` yourself. For now, we'll supply it. This is the same function you read about in the previous lesson. Just run the cell below."
      ],
      "metadata": {
        "id": "MueMammEY6NN"
      }
    },
    {
      "cell_type": "code",
      "execution_count": 3,
      "source": [
        "def get_mae(max_leaf_nodes, train_X, val_X, train_y, val_y):\r\n",
        "    model = DecisionTreeRegressor(max_leaf_nodes=max_leaf_nodes, random_state=0)\r\n",
        "    model.fit(train_X, train_y)\r\n",
        "    preds_val = model.predict(val_X)\r\n",
        "    mae = mean_absolute_error(val_y, preds_val)\r\n",
        "    return(mae)"
      ],
      "outputs": [],
      "metadata": {
        "execution": {
          "iopub.status.busy": "2021-08-04T16:37:41.803833Z",
          "iopub.execute_input": "2021-08-04T16:37:41.804166Z",
          "iopub.status.idle": "2021-08-04T16:37:41.809122Z",
          "shell.execute_reply.started": "2021-08-04T16:37:41.804138Z",
          "shell.execute_reply": "2021-08-04T16:37:41.80787Z"
        },
        "trusted": true,
        "id": "B6VHPB-aY6NO"
      }
    },
    {
      "cell_type": "markdown",
      "source": [
        "## Step 1: Compare Different Tree Sizes\n",
        "Write a loop that tries the following values for *max_leaf_nodes* from a set of possible values.\n",
        "\n",
        "Call the *get_mae* function on each value of max_leaf_nodes. Store the output in some way that allows you to select the value of `max_leaf_nodes` that gives the most accurate model on your data."
      ],
      "metadata": {
        "id": "fCf2wa1lY6NP"
      }
    },
    {
      "cell_type": "code",
      "execution_count": 4,
      "source": [
        "candidate_max_leaf_nodes = [5, 25, 50, 100, 250, 500]\r\n",
        "# Write loop to find the ideal tree size from candidate_max_leaf_nodes\r\n",
        "for x in candidate_max_leaf_nodes:\r\n",
        "    mae = get_mae(x, train_X, val_X, train_y, val_y)\r\n",
        "    print(\"Max leaf nodes: {}  \\t\\t Mean Absolute Error: {}\".format(x, mae))\r\n",
        "\r\n",
        "# Store the best value of max_leaf_nodes (it will be either 5, 25, 50, 100, 250 or 500)\r\n",
        "best_tree_size = 100\r\n"
      ],
      "outputs": [
        {
          "output_type": "stream",
          "name": "stdout",
          "text": [
            "Max leaf nodes: 5  \t\t Mean Absolute Error: 35044.51299744237\n",
            "Max leaf nodes: 25  \t\t Mean Absolute Error: 29016.41319191076\n",
            "Max leaf nodes: 50  \t\t Mean Absolute Error: 27405.930473214907\n",
            "Max leaf nodes: 100  \t\t Mean Absolute Error: 27282.50803885739\n",
            "Max leaf nodes: 250  \t\t Mean Absolute Error: 27893.822225701646\n",
            "Max leaf nodes: 500  \t\t Mean Absolute Error: 29454.18598068598\n"
          ]
        }
      ],
      "metadata": {
        "execution": {
          "iopub.status.busy": "2021-08-04T16:42:21.945489Z",
          "iopub.execute_input": "2021-08-04T16:42:21.945864Z",
          "iopub.status.idle": "2021-08-04T16:42:21.999298Z",
          "shell.execute_reply.started": "2021-08-04T16:42:21.945832Z",
          "shell.execute_reply": "2021-08-04T16:42:21.998374Z"
        },
        "trusted": true,
        "colab": {
          "base_uri": "https://localhost:8080/"
        },
        "id": "UT6NfyxzY6NQ",
        "outputId": "26b1e670-8293-4d65-b3f7-f71542ef1043"
      }
    },
    {
      "cell_type": "markdown",
      "source": [
        "## Step 2: Fit Model Using All Data\n",
        "You know the best tree size. If you were going to deploy this model in practice, you would make it even more accurate by using all of the data and keeping that tree size.  That is, you don't need to hold out the validation data now that you've made all your modeling decisions."
      ],
      "metadata": {
        "id": "hmhm9-l4Y6NS"
      }
    },
    {
      "cell_type": "code",
      "execution_count": 5,
      "source": [
        "# Fill in argument to make optimal size and uncomment\r\n",
        "final_model = DecisionTreeRegressor(max_leaf_nodes=100)\r\n",
        "\r\n",
        "# fit the final model and uncomment the next two lines\r\n",
        "final_model.fit(X, y)\r\n"
      ],
      "outputs": [
        {
          "output_type": "execute_result",
          "data": {
            "text/plain": [
              "DecisionTreeRegressor(max_leaf_nodes=100)"
            ]
          },
          "metadata": {},
          "execution_count": 5
        }
      ],
      "metadata": {
        "execution": {
          "iopub.status.busy": "2021-08-04T16:45:36.267336Z",
          "iopub.execute_input": "2021-08-04T16:45:36.267648Z",
          "iopub.status.idle": "2021-08-04T16:45:36.286052Z",
          "shell.execute_reply.started": "2021-08-04T16:45:36.267621Z",
          "shell.execute_reply": "2021-08-04T16:45:36.285165Z"
        },
        "trusted": true,
        "colab": {
          "base_uri": "https://localhost:8080/"
        },
        "id": "Qc_n0VhCY6NU",
        "outputId": "c3d4fa58-4896-4d0e-f2d6-4cb702f5eb61"
      }
    },
    {
      "cell_type": "markdown",
      "source": [
        "You've tuned this model and improved your results. But we are still using Decision Tree models, which are not very sophisticated by modern machine learning standards. In the next exercise we'll learn to use Random Forests to improve our models even more.\n"
      ],
      "metadata": {
        "id": "estrG6ArY6NV"
      }
    }
  ]
}