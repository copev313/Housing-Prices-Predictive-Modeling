{
  "nbformat": 4,
  "nbformat_minor": 2,
  "metadata": {
    "kernelspec": {
      "name": "python3",
      "display_name": "Python 3.8.5 64-bit ('base': conda)"
    },
    "language_info": {
      "pygments_lexer": "ipython3",
      "nbconvert_exporter": "python",
      "version": "3.8.5",
      "file_extension": ".py",
      "codemirror_mode": {
        "name": "ipython",
        "version": 3
      },
      "name": "python",
      "mimetype": "text/x-python"
    },
    "colab": {
      "name": "first-machine-learning-model.ipynb",
      "provenance": [],
      "toc_visible": true,
      "include_colab_link": true
    },
    "interpreter": {
      "hash": "477af6dc7db3e07bba4a82181506cd1ea8c5d1ba778f52f96c06a72a0ad16534"
    }
  },
  "cells": [
    {
      "cell_type": "markdown",
      "source": [
        "<a href=\"https://colab.research.google.com/github/copev313/Housing-Prices-Predictive-Modeling/blob/introduction/first-machine-learning-model.ipynb\" target=\"_parent\"><img src=\"https://colab.research.google.com/assets/colab-badge.svg\" alt=\"Open In Colab\"/></a>"
      ],
      "metadata": {
        "id": "view-in-github",
        "colab_type": "text"
      }
    },
    {
      "cell_type": "markdown",
      "source": [
        "# First Machine Learning Model\n"
      ],
      "metadata": {
        "id": "1WNjAziFM2my"
      }
    },
    {
      "cell_type": "markdown",
      "source": [
        "## Recap\n",
        "So far, you have loaded your data and reviewed it with the following code. Run this cell to set up your coding environment where the previous step left off."
      ],
      "metadata": {
        "id": "o3wA-vokM2m1"
      }
    },
    {
      "cell_type": "code",
      "execution_count": 3,
      "source": [
        "#!pip install pandas scikit-learn --quiet"
      ],
      "outputs": [],
      "metadata": {
        "id": "7XVqA7aURZQR"
      }
    },
    {
      "cell_type": "code",
      "execution_count": 4,
      "source": [
        "import pandas as pd\r\n",
        "\r\n",
        "home_data = pd.read_csv('home_train.csv')"
      ],
      "outputs": [],
      "metadata": {
        "execution": {
          "iopub.status.busy": "2021-08-02T19:46:41.272457Z",
          "iopub.execute_input": "2021-08-02T19:46:41.273181Z",
          "iopub.status.idle": "2021-08-02T19:46:42.480082Z",
          "shell.execute_reply.started": "2021-08-02T19:46:41.273088Z",
          "shell.execute_reply": "2021-08-02T19:46:42.478796Z"
        },
        "trusted": true,
        "id": "G2qVWTLfM2m3"
      }
    },
    {
      "cell_type": "markdown",
      "source": [
        "# Exercises\n",
        "\n",
        "## Step 1: Specify Prediction Target\n",
        "Select the target variable, which corresponds to the sales price. Save this to a new variable called `y`. You'll need to print a list of the columns to find the name of the column you need.\n"
      ],
      "metadata": {
        "id": "iFGgVIUjM2m4"
      }
    },
    {
      "cell_type": "code",
      "execution_count": 5,
      "source": [
        "# print the list of columns in the dataset to find the name of the prediction target\r\n",
        "print(home_data.columns)\r\n"
      ],
      "outputs": [
        {
          "output_type": "stream",
          "name": "stdout",
          "text": [
            "Index(['Id', 'MSSubClass', 'MSZoning', 'LotFrontage', 'LotArea', 'Street',\n",
            "       'Alley', 'LotShape', 'LandContour', 'Utilities', 'LotConfig',\n",
            "       'LandSlope', 'Neighborhood', 'Condition1', 'Condition2', 'BldgType',\n",
            "       'HouseStyle', 'OverallQual', 'OverallCond', 'YearBuilt', 'YearRemodAdd',\n",
            "       'RoofStyle', 'RoofMatl', 'Exterior1st', 'Exterior2nd', 'MasVnrType',\n",
            "       'MasVnrArea', 'ExterQual', 'ExterCond', 'Foundation', 'BsmtQual',\n",
            "       'BsmtCond', 'BsmtExposure', 'BsmtFinType1', 'BsmtFinSF1',\n",
            "       'BsmtFinType2', 'BsmtFinSF2', 'BsmtUnfSF', 'TotalBsmtSF', 'Heating',\n",
            "       'HeatingQC', 'CentralAir', 'Electrical', '1stFlrSF', '2ndFlrSF',\n",
            "       'LowQualFinSF', 'GrLivArea', 'BsmtFullBath', 'BsmtHalfBath', 'FullBath',\n",
            "       'HalfBath', 'BedroomAbvGr', 'KitchenAbvGr', 'KitchenQual',\n",
            "       'TotRmsAbvGrd', 'Functional', 'Fireplaces', 'FireplaceQu', 'GarageType',\n",
            "       'GarageYrBlt', 'GarageFinish', 'GarageCars', 'GarageArea', 'GarageQual',\n",
            "       'GarageCond', 'PavedDrive', 'WoodDeckSF', 'OpenPorchSF',\n",
            "       'EnclosedPorch', '3SsnPorch', 'ScreenPorch', 'PoolArea', 'PoolQC',\n",
            "       'Fence', 'MiscFeature', 'MiscVal', 'MoSold', 'YrSold', 'SaleType',\n",
            "       'SaleCondition', 'SalePrice'],\n",
            "      dtype='object')\n"
          ]
        }
      ],
      "metadata": {
        "execution": {
          "iopub.status.busy": "2021-08-02T19:49:06.700984Z",
          "iopub.execute_input": "2021-08-02T19:49:06.70135Z",
          "iopub.status.idle": "2021-08-02T19:49:06.711308Z",
          "shell.execute_reply.started": "2021-08-02T19:49:06.701318Z",
          "shell.execute_reply": "2021-08-02T19:49:06.710357Z"
        },
        "trusted": true,
        "colab": {
          "base_uri": "https://localhost:8080/"
        },
        "id": "bs-bT39eM2m5",
        "outputId": "2d1f26a8-19d5-4afd-b7d2-99aa24571201"
      }
    },
    {
      "cell_type": "code",
      "execution_count": 6,
      "source": [
        "y = home_data['SalePrice']\r\n"
      ],
      "outputs": [],
      "metadata": {
        "execution": {
          "iopub.status.busy": "2021-08-02T19:50:03.131389Z",
          "iopub.execute_input": "2021-08-02T19:50:03.131751Z",
          "iopub.status.idle": "2021-08-02T19:50:03.147477Z",
          "shell.execute_reply.started": "2021-08-02T19:50:03.131721Z",
          "shell.execute_reply": "2021-08-02T19:50:03.146395Z"
        },
        "trusted": true,
        "id": "VPbdcBGCM2m5"
      }
    },
    {
      "cell_type": "markdown",
      "source": [
        "## Step 2: Create X\n",
        "Now you will create a DataFrame called `X` holding the predictive features.\n",
        "\n",
        "Since you want only some columns from the original data, you'll first create a list with the names of the columns you want in `X`.\n",
        "\n",
        "You'll use just the following columns in the list (you can copy and paste the whole list to save some typing, though you'll still need to add quotes):\n",
        "    * LotArea\n",
        "    * YearBuilt\n",
        "    * 1stFlrSF\n",
        "    * 2ndFlrSF\n",
        "    * FullBath\n",
        "    * BedroomAbvGr\n",
        "    * TotRmsAbvGrd\n",
        "\n",
        "After you've created that list of features, use it to create the DataFrame that you'll use to fit the model."
      ],
      "metadata": {
        "id": "wZo6i5SZM2m7"
      }
    },
    {
      "cell_type": "code",
      "execution_count": 7,
      "source": [
        "# Create the list of features below\r\n",
        "feature_names = ['LotArea', 'YearBuilt', '1stFlrSF', '2ndFlrSF', 'FullBath', 'BedroomAbvGr', 'TotRmsAbvGrd']\r\n",
        "\r\n",
        "# Select data corresponding to features in feature_names\r\n",
        "X = home_data[feature_names]\r\n"
      ],
      "outputs": [],
      "metadata": {
        "execution": {
          "iopub.status.busy": "2021-08-02T19:52:40.944569Z",
          "iopub.execute_input": "2021-08-02T19:52:40.944948Z",
          "iopub.status.idle": "2021-08-02T19:52:40.956932Z",
          "shell.execute_reply.started": "2021-08-02T19:52:40.944915Z",
          "shell.execute_reply": "2021-08-02T19:52:40.956196Z"
        },
        "trusted": true,
        "id": "iYwowxIEM2m8"
      }
    },
    {
      "cell_type": "markdown",
      "source": [
        "## Review Data\n",
        "Before building a model, take a quick look at **X** to verify it looks sensible"
      ],
      "metadata": {
        "id": "EtIrcEdzM2m-"
      }
    },
    {
      "cell_type": "code",
      "execution_count": 8,
      "source": [
        "# Review data\r\n",
        "# print description or statistics from X\r\n",
        "print(X.describe())\r\n",
        "\r\n",
        "# print the top few lines\r\n",
        "print(X.head())"
      ],
      "outputs": [
        {
          "output_type": "stream",
          "name": "stdout",
          "text": [
            "             LotArea    YearBuilt     1stFlrSF     2ndFlrSF     FullBath  \\\n",
            "count    1460.000000  1460.000000  1460.000000  1460.000000  1460.000000   \n",
            "mean    10516.828082  1971.267808  1162.626712   346.992466     1.565068   \n",
            "std      9981.264932    30.202904   386.587738   436.528436     0.550916   \n",
            "min      1300.000000  1872.000000   334.000000     0.000000     0.000000   \n",
            "25%      7553.500000  1954.000000   882.000000     0.000000     1.000000   \n",
            "50%      9478.500000  1973.000000  1087.000000     0.000000     2.000000   \n",
            "75%     11601.500000  2000.000000  1391.250000   728.000000     2.000000   \n",
            "max    215245.000000  2010.000000  4692.000000  2065.000000     3.000000   \n",
            "\n",
            "       BedroomAbvGr  TotRmsAbvGrd  \n",
            "count   1460.000000   1460.000000  \n",
            "mean       2.866438      6.517808  \n",
            "std        0.815778      1.625393  \n",
            "min        0.000000      2.000000  \n",
            "25%        2.000000      5.000000  \n",
            "50%        3.000000      6.000000  \n",
            "75%        3.000000      7.000000  \n",
            "max        8.000000     14.000000  \n",
            "   LotArea  YearBuilt  1stFlrSF  2ndFlrSF  FullBath  BedroomAbvGr  \\\n",
            "0     8450       2003       856       854         2             3   \n",
            "1     9600       1976      1262         0         2             3   \n",
            "2    11250       2001       920       866         2             3   \n",
            "3     9550       1915       961       756         1             3   \n",
            "4    14260       2000      1145      1053         2             4   \n",
            "\n",
            "   TotRmsAbvGrd  \n",
            "0             8  \n",
            "1             6  \n",
            "2             6  \n",
            "3             7  \n",
            "4             9  \n"
          ]
        }
      ],
      "metadata": {
        "execution": {
          "iopub.status.busy": "2021-08-02T19:53:31.319185Z",
          "iopub.execute_input": "2021-08-02T19:53:31.319712Z",
          "iopub.status.idle": "2021-08-02T19:53:31.351203Z",
          "shell.execute_reply.started": "2021-08-02T19:53:31.319678Z",
          "shell.execute_reply": "2021-08-02T19:53:31.350363Z"
        },
        "trusted": true,
        "colab": {
          "base_uri": "https://localhost:8080/"
        },
        "id": "g3ONKXksM2m_",
        "outputId": "adae4dfe-c62d-4abd-b31e-8818c86ea19c"
      }
    },
    {
      "cell_type": "markdown",
      "source": [
        "## Step 3: Specify and Fit Model\n",
        "Create a `DecisionTreeRegressor` and save it iowa_model. Ensure you've done the relevant import from sklearn to run this command.\n",
        "\n",
        "Then fit the model you just created using the data in `X` and `y` that you saved above."
      ],
      "metadata": {
        "id": "R89nCCaMM2nA"
      }
    },
    {
      "cell_type": "code",
      "execution_count": 9,
      "source": [
        "from sklearn.tree import DecisionTreeRegressor\r\n",
        "#Specify the model. \r\n",
        "#For model reproducibility, set a numeric value for random_state when specifying the model\r\n",
        "iowa_model = DecisionTreeRegressor(random_state=1)\r\n",
        "\r\n",
        "# Fit the model\r\n",
        "iowa_model.fit(X, y)\r\n"
      ],
      "outputs": [
        {
          "output_type": "execute_result",
          "data": {
            "text/plain": [
              "DecisionTreeRegressor(random_state=1)"
            ]
          },
          "metadata": {},
          "execution_count": 9
        }
      ],
      "metadata": {
        "execution": {
          "iopub.status.busy": "2021-08-02T19:55:40.189262Z",
          "iopub.execute_input": "2021-08-02T19:55:40.189633Z",
          "iopub.status.idle": "2021-08-02T19:55:40.21115Z",
          "shell.execute_reply.started": "2021-08-02T19:55:40.189602Z",
          "shell.execute_reply": "2021-08-02T19:55:40.210206Z"
        },
        "trusted": true,
        "colab": {
          "base_uri": "https://localhost:8080/"
        },
        "id": "0r10s4MMM2nA",
        "outputId": "fd5efeb8-3774-491c-a6b9-70996685b9f3"
      }
    },
    {
      "cell_type": "markdown",
      "source": [
        "## Step 4: Make Predictions\n",
        "Make predictions with the model's `predict` command using `X` as the data. Save the results to a variable called `predictions`."
      ],
      "metadata": {
        "id": "TN1JGKE_M2nB"
      }
    },
    {
      "cell_type": "code",
      "execution_count": 10,
      "source": [
        "predictions = iowa_model.predict(X)\r\n",
        "print(predictions)\r\n"
      ],
      "outputs": [
        {
          "output_type": "stream",
          "name": "stdout",
          "text": [
            "[208500. 181500. 223500. ... 266500. 142125. 147500.]\n"
          ]
        }
      ],
      "metadata": {
        "execution": {
          "iopub.status.busy": "2021-08-02T19:56:41.251197Z",
          "iopub.execute_input": "2021-08-02T19:56:41.251557Z",
          "iopub.status.idle": "2021-08-02T19:56:41.268056Z",
          "shell.execute_reply.started": "2021-08-02T19:56:41.251528Z",
          "shell.execute_reply": "2021-08-02T19:56:41.267103Z"
        },
        "trusted": true,
        "colab": {
          "base_uri": "https://localhost:8080/"
        },
        "id": "OmtpWN0LM2nB",
        "outputId": "6c2ed70e-3ce0-41a7-83f1-560d1c467f17"
      }
    },
    {
      "cell_type": "markdown",
      "source": [
        "## Think About Your Results\n",
        "\n",
        "Use the `head` method to compare the top few predictions to the actual home values (in `y`) for those same homes. Anything surprising?\n"
      ],
      "metadata": {
        "id": "8M_9Hkc5M2nC"
      }
    },
    {
      "cell_type": "code",
      "execution_count": 11,
      "source": [
        "# You can write code in this cell\r\n",
        "print(y.head())"
      ],
      "outputs": [
        {
          "output_type": "stream",
          "name": "stdout",
          "text": [
            "0    208500\n",
            "1    181500\n",
            "2    223500\n",
            "3    140000\n",
            "4    250000\n",
            "Name: SalePrice, dtype: int64\n"
          ]
        }
      ],
      "metadata": {
        "execution": {
          "iopub.status.busy": "2021-08-02T19:58:37.402098Z",
          "iopub.execute_input": "2021-08-02T19:58:37.402664Z",
          "iopub.status.idle": "2021-08-02T19:58:37.410888Z",
          "shell.execute_reply.started": "2021-08-02T19:58:37.402618Z",
          "shell.execute_reply": "2021-08-02T19:58:37.409748Z"
        },
        "trusted": true,
        "colab": {
          "base_uri": "https://localhost:8080/"
        },
        "id": "xIL8UxozM2nC",
        "outputId": "62fd1ba4-ab63-4ece-f577-c217a42d5307"
      }
    },
    {
      "cell_type": "markdown",
      "source": [
        "It's natural to ask how accurate the model's predictions will be and how you can improve that. That will be the next step."
      ],
      "metadata": {
        "id": "83q4T6bjM2nC"
      }
    }
  ]
}