{
  "nbformat": 4,
  "nbformat_minor": 2,
  "metadata": {
    "kernelspec": {
      "name": "python3",
      "display_name": "Python 3.8.5 64-bit ('base': conda)"
    },
    "language_info": {
      "pygments_lexer": "ipython3",
      "nbconvert_exporter": "python",
      "version": "3.8.5",
      "file_extension": ".py",
      "codemirror_mode": {
        "name": "ipython",
        "version": 3
      },
      "name": "python",
      "mimetype": "text/x-python"
    },
    "colab": {
      "name": "exercise-model-validation.ipynb",
      "provenance": [],
      "toc_visible": true,
      "include_colab_link": true
    },
    "interpreter": {
      "hash": "477af6dc7db3e07bba4a82181506cd1ea8c5d1ba778f52f96c06a72a0ad16534"
    }
  },
  "cells": [
    {
      "cell_type": "markdown",
      "source": [
        "<a href=\"https://colab.research.google.com/github/copev313/Housing-Prices-Predictive-Modeling/blob/introduction/model-validation.ipynb\" target=\"_parent\"><img src=\"https://colab.research.google.com/assets/colab-badge.svg\" alt=\"Open In Colab\"/></a>"
      ],
      "metadata": {
        "id": "view-in-github",
        "colab_type": "text"
      }
    },
    {
      "cell_type": "markdown",
      "source": [
        "# Model Validation"
      ],
      "metadata": {
        "id": "uVRcwc6JVat-"
      }
    },
    {
      "cell_type": "markdown",
      "source": [
        "## Recap\n",
        "You've built a model. In this exercise you will test how good your model is.\n",
        "\n",
        "Run the cell below to set up your coding environment where the previous exercise left off."
      ],
      "metadata": {
        "id": "zQA3_PUjVauB"
      }
    },
    {
      "cell_type": "code",
      "execution_count": 1,
      "source": [
        "#!pip install pandas scikit-learn --quiet"
      ],
      "outputs": [],
      "metadata": {
        "id": "3FkagrCzVs1_"
      }
    },
    {
      "cell_type": "code",
      "execution_count": 2,
      "source": [
        "import pandas as pd\r\n",
        "from sklearn.tree import DecisionTreeRegressor\r\n",
        "\r\n",
        "# Path of the file to read\r\n",
        "iowa_file_path = 'home_train.csv'\r\n",
        "\r\n",
        "home_data = pd.read_csv(iowa_file_path)\r\n",
        "y = home_data.SalePrice\r\n",
        "feature_columns = ['LotArea', 'YearBuilt', '1stFlrSF', '2ndFlrSF', 'FullBath', 'BedroomAbvGr', 'TotRmsAbvGrd']\r\n",
        "X = home_data[feature_columns]\r\n",
        "\r\n",
        "# Specify Model\r\n",
        "iowa_model = DecisionTreeRegressor()\r\n",
        "# Fit Model\r\n",
        "iowa_model.fit(X, y)\r\n",
        "\r\n",
        "print(\"First in-sample predictions:\", iowa_model.predict(X.head()))\r\n",
        "print(\"Actual target values for those homes:\", y.head().tolist())\r\n"
      ],
      "outputs": [
        {
          "output_type": "stream",
          "name": "stdout",
          "text": [
            "First in-sample predictions: [208500. 181500. 223500. 140000. 250000.]\n",
            "Actual target values for those homes: [208500, 181500, 223500, 140000, 250000]\n"
          ]
        }
      ],
      "metadata": {
        "execution": {
          "iopub.status.busy": "2021-08-02T20:56:47.472734Z",
          "iopub.execute_input": "2021-08-02T20:56:47.473109Z",
          "iopub.status.idle": "2021-08-02T20:56:47.754146Z",
          "shell.execute_reply.started": "2021-08-02T20:56:47.473078Z",
          "shell.execute_reply": "2021-08-02T20:56:47.753171Z"
        },
        "trusted": true,
        "colab": {
          "base_uri": "https://localhost:8080/"
        },
        "id": "EnuNWLD8VauC",
        "outputId": "5feac8b2-2728-4730-9472-522fbb0648ea"
      }
    },
    {
      "cell_type": "markdown",
      "source": [
        "# Exercises\n",
        "\n",
        "## Step 1: Split Your Data\n",
        "Use the `train_test_split` function to split up your data.\n",
        "\n",
        "Give it the argument `random_state=1` so the `check` functions know what to expect when verifying your code.\n",
        "\n",
        "Recall, your features are loaded in the DataFrame **X** and your target is loaded in **y**.\n"
      ],
      "metadata": {
        "id": "3XtTiKq4VauE"
      }
    },
    {
      "cell_type": "code",
      "execution_count": 3,
      "source": [
        "from sklearn.model_selection import train_test_split\r\n",
        "\r\n",
        "train_X, val_X, train_y, val_y = train_test_split(X, y, random_state=1)\r\n",
        "\r\n"
      ],
      "outputs": [],
      "metadata": {
        "execution": {
          "iopub.status.busy": "2021-08-02T20:58:59.578808Z",
          "iopub.execute_input": "2021-08-02T20:58:59.579196Z",
          "iopub.status.idle": "2021-08-02T20:58:59.592465Z",
          "shell.execute_reply.started": "2021-08-02T20:58:59.579163Z",
          "shell.execute_reply": "2021-08-02T20:58:59.591495Z"
        },
        "trusted": true,
        "id": "k9j5sznKVauF"
      }
    },
    {
      "cell_type": "markdown",
      "source": [
        "## Step 2: Specify and Fit the Model\n",
        "\n",
        "Create a `DecisionTreeRegressor` model and fit it to the relevant data.\n",
        "Set `random_state` to 1 again when creating the model."
      ],
      "metadata": {
        "id": "0EMF0JPqVauH"
      }
    },
    {
      "cell_type": "code",
      "execution_count": 4,
      "source": [
        "\r\n",
        "# Specify the model\r\n",
        "iowa_model = DecisionTreeRegressor(random_state=1)\r\n",
        "\r\n",
        "# Fit iowa_model with the training data.\r\n",
        "iowa_model.fit(train_X, train_y)\r\n"
      ],
      "outputs": [
        {
          "output_type": "execute_result",
          "data": {
            "text/plain": [
              "DecisionTreeRegressor(random_state=1)"
            ]
          },
          "metadata": {},
          "execution_count": 4
        }
      ],
      "metadata": {
        "execution": {
          "iopub.status.busy": "2021-08-02T21:01:07.06416Z",
          "iopub.execute_input": "2021-08-02T21:01:07.064557Z",
          "iopub.status.idle": "2021-08-02T21:01:07.094316Z",
          "shell.execute_reply.started": "2021-08-02T21:01:07.064521Z",
          "shell.execute_reply": "2021-08-02T21:01:07.093452Z"
        },
        "trusted": true,
        "colab": {
          "base_uri": "https://localhost:8080/"
        },
        "id": "8sC3wGulVauI",
        "outputId": "32b0a2af-50a8-46a1-fdd3-1afab3409737"
      }
    },
    {
      "cell_type": "markdown",
      "source": [
        "## Step 3: Make Predictions with Validation data\n"
      ],
      "metadata": {
        "id": "H4FWEaKkVauK"
      }
    },
    {
      "cell_type": "code",
      "execution_count": 5,
      "source": [
        "# Predict with all validation observations\r\n",
        "val_predictions = iowa_model.predict(val_X)\r\n"
      ],
      "outputs": [],
      "metadata": {
        "execution": {
          "iopub.status.busy": "2021-08-02T21:02:32.842247Z",
          "iopub.execute_input": "2021-08-02T21:02:32.8426Z",
          "iopub.status.idle": "2021-08-02T21:02:32.852927Z",
          "shell.execute_reply.started": "2021-08-02T21:02:32.842571Z",
          "shell.execute_reply": "2021-08-02T21:02:32.852211Z"
        },
        "trusted": true,
        "id": "RhhwgVm8VauL"
      }
    },
    {
      "cell_type": "markdown",
      "source": [
        "Inspect your predictions and actual values from validation data."
      ],
      "metadata": {
        "id": "7KsgPBaWVauL"
      }
    },
    {
      "cell_type": "code",
      "execution_count": 6,
      "source": [
        "# print the top few validation predictions\r\n",
        "print(val_predictions[:10])\r\n",
        "# print the top few actual prices from validation data\r\n",
        "print(val_y[:10])"
      ],
      "outputs": [
        {
          "output_type": "stream",
          "name": "stdout",
          "text": [
            "[186500. 184000. 130000.  92000. 164500. 220000. 335000. 144152. 215000.\n",
            " 262000.]\n",
            "258     231500\n",
            "267     179500\n",
            "288     122000\n",
            "649      84500\n",
            "1233    142000\n",
            "167     325624\n",
            "926     285000\n",
            "831     151000\n",
            "1237    195000\n",
            "426     275000\n",
            "Name: SalePrice, dtype: int64\n"
          ]
        }
      ],
      "metadata": {
        "execution": {
          "iopub.status.busy": "2021-08-02T21:05:49.34697Z",
          "iopub.execute_input": "2021-08-02T21:05:49.347545Z",
          "iopub.status.idle": "2021-08-02T21:05:49.355495Z",
          "shell.execute_reply.started": "2021-08-02T21:05:49.3475Z",
          "shell.execute_reply": "2021-08-02T21:05:49.354392Z"
        },
        "trusted": true,
        "colab": {
          "base_uri": "https://localhost:8080/"
        },
        "id": "Suh01RtEVauM",
        "outputId": "f3828468-8653-457d-c4ae-ae728709df8f"
      }
    },
    {
      "cell_type": "markdown",
      "source": [
        "What do you notice that is different from what you saw with in-sample predictions (which are printed after the top code cell in this page).\n",
        "\n",
        "Do you remember why validation predictions differ from in-sample (or training) predictions? This is an important idea from the last lesson.\n",
        "\n",
        "## Step 4: Calculate the Mean Absolute Error in Validation Data\n"
      ],
      "metadata": {
        "id": "48JGySSDVauM"
      }
    },
    {
      "cell_type": "code",
      "execution_count": 7,
      "source": [
        "from sklearn.metrics import mean_absolute_error\r\n",
        "val_mae = mean_absolute_error(val_y, val_predictions)\r\n",
        "\r\n",
        "# uncomment following line to see the validation_mae\r\n",
        "print(val_mae)\r\n"
      ],
      "outputs": [
        {
          "output_type": "stream",
          "name": "stdout",
          "text": [
            "29652.931506849316\n"
          ]
        }
      ],
      "metadata": {
        "execution": {
          "iopub.status.busy": "2021-08-02T21:05:12.494608Z",
          "iopub.execute_input": "2021-08-02T21:05:12.495239Z",
          "iopub.status.idle": "2021-08-02T21:05:12.504557Z",
          "shell.execute_reply.started": "2021-08-02T21:05:12.4952Z",
          "shell.execute_reply": "2021-08-02T21:05:12.503721Z"
        },
        "trusted": true,
        "colab": {
          "base_uri": "https://localhost:8080/"
        },
        "id": "uBs5PFHYVauN",
        "outputId": "2d0f1bd3-0510-4f9a-c88d-fd6599c94fd3"
      }
    },
    {
      "cell_type": "markdown",
      "source": [
        "Is that MAE good?  There isn't a general rule for what values are good that applies across applications. But you'll see how to use (and improve) this number in the next exercise.\n"
      ],
      "metadata": {
        "id": "oThZt5RBVauN"
      }
    }
  ]
}