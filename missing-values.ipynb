{
  "nbformat": 4,
  "nbformat_minor": 0,
  "metadata": {
    "kernelspec": {
      "language": "python",
      "display_name": "Python 3",
      "name": "python3"
    },
    "language_info": {
      "pygments_lexer": "ipython3",
      "nbconvert_exporter": "python",
      "version": "3.6.4",
      "file_extension": ".py",
      "codemirror_mode": {
        "name": "ipython",
        "version": 3
      },
      "name": "python",
      "mimetype": "text/x-python"
    },
    "colab": {
      "name": "missing-values.ipynb",
      "provenance": [],
      "collapsed_sections": [],
      "include_colab_link": true
    }
  },
  "cells": [
    {
      "cell_type": "markdown",
      "metadata": {
        "id": "view-in-github",
        "colab_type": "text"
      },
      "source": [
        "<a href=\"https://colab.research.google.com/github/copev313/Housing-Prices-Predictive-Modeling/blob/intermediate/missing-values.ipynb\" target=\"_parent\"><img src=\"https://colab.research.google.com/assets/colab-badge.svg\" alt=\"Open In Colab\"/></a>"
      ]
    },
    {
      "cell_type": "markdown",
      "metadata": {
        "id": "9myOmvitgTl8"
      },
      "source": [
        "# Missing Values\n"
      ]
    },
    {
      "cell_type": "markdown",
      "metadata": {
        "id": "Q8hLxSwcgTl9"
      },
      "source": [
        "Now it's your turn to test your new knowledge of **missing values** handling. You'll probably find it makes a big difference.\n",
        "\n",
        "## Setup\n"
      ]
    },
    {
      "cell_type": "markdown",
      "metadata": {
        "id": "6dEWZ2MVgTmA"
      },
      "source": [
        "In this exercise, you will work with data from the [Housing Prices Competition for Kaggle Learn Users](https://www.kaggle.com/c/home-data-for-ml-course). \n",
        "\n",
        "![Ames Housing dataset image](https://i.imgur.com/lTJVG4e.png)\n",
        "\n",
        "Run the next code cell without changes to load the training and validation sets in `X_train`, `X_valid`, `y_train`, and `y_valid`.  The test set is loaded in `X_test`."
      ]
    },
    {
      "cell_type": "code",
      "metadata": {
        "execution": {
          "iopub.status.busy": "2021-08-14T17:28:54.256161Z",
          "iopub.execute_input": "2021-08-14T17:28:54.25666Z",
          "iopub.status.idle": "2021-08-14T17:28:54.340679Z",
          "shell.execute_reply.started": "2021-08-14T17:28:54.256628Z",
          "shell.execute_reply": "2021-08-14T17:28:54.339979Z"
        },
        "trusted": true,
        "id": "FJcuLwFZgTmC"
      },
      "source": [
        "import pandas as pd\n",
        "from sklearn.model_selection import train_test_split\n",
        "\n",
        "# Read the data\n",
        "X_full = pd.read_csv('home_train.csv', index_col='Id')\n",
        "X_test_full = pd.read_csv('home_test.csv', index_col='Id')\n",
        "\n",
        "# Remove rows with missing target, separate target from predictors\n",
        "X_full.dropna(axis=0, subset=['SalePrice'], inplace=True)\n",
        "y = X_full.SalePrice\n",
        "X_full.drop(['SalePrice'], axis=1, inplace=True)\n",
        "\n",
        "# To keep things simple, we'll use only numerical predictors\n",
        "X = X_full.select_dtypes(exclude=['object'])\n",
        "X_test = X_test_full.select_dtypes(exclude=['object'])\n",
        "\n",
        "# Break off validation set from training data\n",
        "X_train, X_valid, y_train, y_valid = train_test_split(X, y, \n",
        "                                                      train_size=0.8,\n",
        "                                                      test_size=0.2,\n",
        "                                                      random_state=0)\n"
      ],
      "execution_count": 1,
      "outputs": []
    },
    {
      "cell_type": "markdown",
      "metadata": {
        "id": "TwC-g2tygTmD"
      },
      "source": [
        "Use the next code cell to print the first five rows of the data."
      ]
    },
    {
      "cell_type": "code",
      "metadata": {
        "execution": {
          "iopub.status.busy": "2021-08-14T17:28:54.342208Z",
          "iopub.execute_input": "2021-08-14T17:28:54.342688Z",
          "iopub.status.idle": "2021-08-14T17:28:54.365434Z",
          "shell.execute_reply.started": "2021-08-14T17:28:54.342657Z",
          "shell.execute_reply": "2021-08-14T17:28:54.364496Z"
        },
        "trusted": true,
        "colab": {
          "base_uri": "https://localhost:8080/",
          "height": 255
        },
        "id": "LmNcKm2OgTmE",
        "outputId": "40bb8afd-c552-4ab0-ab1d-83421af519cf"
      },
      "source": [
        "X_train.head()"
      ],
      "execution_count": 2,
      "outputs": [
        {
          "output_type": "execute_result",
          "data": {
            "text/html": [
              "<div>\n",
              "<style scoped>\n",
              "    .dataframe tbody tr th:only-of-type {\n",
              "        vertical-align: middle;\n",
              "    }\n",
              "\n",
              "    .dataframe tbody tr th {\n",
              "        vertical-align: top;\n",
              "    }\n",
              "\n",
              "    .dataframe thead th {\n",
              "        text-align: right;\n",
              "    }\n",
              "</style>\n",
              "<table border=\"1\" class=\"dataframe\">\n",
              "  <thead>\n",
              "    <tr style=\"text-align: right;\">\n",
              "      <th></th>\n",
              "      <th>MSSubClass</th>\n",
              "      <th>LotFrontage</th>\n",
              "      <th>LotArea</th>\n",
              "      <th>OverallQual</th>\n",
              "      <th>OverallCond</th>\n",
              "      <th>YearBuilt</th>\n",
              "      <th>YearRemodAdd</th>\n",
              "      <th>MasVnrArea</th>\n",
              "      <th>BsmtFinSF1</th>\n",
              "      <th>BsmtFinSF2</th>\n",
              "      <th>BsmtUnfSF</th>\n",
              "      <th>TotalBsmtSF</th>\n",
              "      <th>1stFlrSF</th>\n",
              "      <th>2ndFlrSF</th>\n",
              "      <th>LowQualFinSF</th>\n",
              "      <th>GrLivArea</th>\n",
              "      <th>BsmtFullBath</th>\n",
              "      <th>BsmtHalfBath</th>\n",
              "      <th>FullBath</th>\n",
              "      <th>HalfBath</th>\n",
              "      <th>BedroomAbvGr</th>\n",
              "      <th>KitchenAbvGr</th>\n",
              "      <th>TotRmsAbvGrd</th>\n",
              "      <th>Fireplaces</th>\n",
              "      <th>GarageYrBlt</th>\n",
              "      <th>GarageCars</th>\n",
              "      <th>GarageArea</th>\n",
              "      <th>WoodDeckSF</th>\n",
              "      <th>OpenPorchSF</th>\n",
              "      <th>EnclosedPorch</th>\n",
              "      <th>3SsnPorch</th>\n",
              "      <th>ScreenPorch</th>\n",
              "      <th>PoolArea</th>\n",
              "      <th>MiscVal</th>\n",
              "      <th>MoSold</th>\n",
              "      <th>YrSold</th>\n",
              "    </tr>\n",
              "    <tr>\n",
              "      <th>Id</th>\n",
              "      <th></th>\n",
              "      <th></th>\n",
              "      <th></th>\n",
              "      <th></th>\n",
              "      <th></th>\n",
              "      <th></th>\n",
              "      <th></th>\n",
              "      <th></th>\n",
              "      <th></th>\n",
              "      <th></th>\n",
              "      <th></th>\n",
              "      <th></th>\n",
              "      <th></th>\n",
              "      <th></th>\n",
              "      <th></th>\n",
              "      <th></th>\n",
              "      <th></th>\n",
              "      <th></th>\n",
              "      <th></th>\n",
              "      <th></th>\n",
              "      <th></th>\n",
              "      <th></th>\n",
              "      <th></th>\n",
              "      <th></th>\n",
              "      <th></th>\n",
              "      <th></th>\n",
              "      <th></th>\n",
              "      <th></th>\n",
              "      <th></th>\n",
              "      <th></th>\n",
              "      <th></th>\n",
              "      <th></th>\n",
              "      <th></th>\n",
              "      <th></th>\n",
              "      <th></th>\n",
              "      <th></th>\n",
              "    </tr>\n",
              "  </thead>\n",
              "  <tbody>\n",
              "    <tr>\n",
              "      <th>619</th>\n",
              "      <td>20</td>\n",
              "      <td>90.0</td>\n",
              "      <td>11694</td>\n",
              "      <td>9</td>\n",
              "      <td>5</td>\n",
              "      <td>2007</td>\n",
              "      <td>2007</td>\n",
              "      <td>452.0</td>\n",
              "      <td>48</td>\n",
              "      <td>0</td>\n",
              "      <td>1774</td>\n",
              "      <td>1822</td>\n",
              "      <td>1828</td>\n",
              "      <td>0</td>\n",
              "      <td>0</td>\n",
              "      <td>1828</td>\n",
              "      <td>0</td>\n",
              "      <td>0</td>\n",
              "      <td>2</td>\n",
              "      <td>0</td>\n",
              "      <td>3</td>\n",
              "      <td>1</td>\n",
              "      <td>9</td>\n",
              "      <td>1</td>\n",
              "      <td>2007.0</td>\n",
              "      <td>3</td>\n",
              "      <td>774</td>\n",
              "      <td>0</td>\n",
              "      <td>108</td>\n",
              "      <td>0</td>\n",
              "      <td>0</td>\n",
              "      <td>260</td>\n",
              "      <td>0</td>\n",
              "      <td>0</td>\n",
              "      <td>7</td>\n",
              "      <td>2007</td>\n",
              "    </tr>\n",
              "    <tr>\n",
              "      <th>871</th>\n",
              "      <td>20</td>\n",
              "      <td>60.0</td>\n",
              "      <td>6600</td>\n",
              "      <td>5</td>\n",
              "      <td>5</td>\n",
              "      <td>1962</td>\n",
              "      <td>1962</td>\n",
              "      <td>0.0</td>\n",
              "      <td>0</td>\n",
              "      <td>0</td>\n",
              "      <td>894</td>\n",
              "      <td>894</td>\n",
              "      <td>894</td>\n",
              "      <td>0</td>\n",
              "      <td>0</td>\n",
              "      <td>894</td>\n",
              "      <td>0</td>\n",
              "      <td>0</td>\n",
              "      <td>1</td>\n",
              "      <td>0</td>\n",
              "      <td>2</td>\n",
              "      <td>1</td>\n",
              "      <td>5</td>\n",
              "      <td>0</td>\n",
              "      <td>1962.0</td>\n",
              "      <td>1</td>\n",
              "      <td>308</td>\n",
              "      <td>0</td>\n",
              "      <td>0</td>\n",
              "      <td>0</td>\n",
              "      <td>0</td>\n",
              "      <td>0</td>\n",
              "      <td>0</td>\n",
              "      <td>0</td>\n",
              "      <td>8</td>\n",
              "      <td>2009</td>\n",
              "    </tr>\n",
              "    <tr>\n",
              "      <th>93</th>\n",
              "      <td>30</td>\n",
              "      <td>80.0</td>\n",
              "      <td>13360</td>\n",
              "      <td>5</td>\n",
              "      <td>7</td>\n",
              "      <td>1921</td>\n",
              "      <td>2006</td>\n",
              "      <td>0.0</td>\n",
              "      <td>713</td>\n",
              "      <td>0</td>\n",
              "      <td>163</td>\n",
              "      <td>876</td>\n",
              "      <td>964</td>\n",
              "      <td>0</td>\n",
              "      <td>0</td>\n",
              "      <td>964</td>\n",
              "      <td>1</td>\n",
              "      <td>0</td>\n",
              "      <td>1</td>\n",
              "      <td>0</td>\n",
              "      <td>2</td>\n",
              "      <td>1</td>\n",
              "      <td>5</td>\n",
              "      <td>0</td>\n",
              "      <td>1921.0</td>\n",
              "      <td>2</td>\n",
              "      <td>432</td>\n",
              "      <td>0</td>\n",
              "      <td>0</td>\n",
              "      <td>44</td>\n",
              "      <td>0</td>\n",
              "      <td>0</td>\n",
              "      <td>0</td>\n",
              "      <td>0</td>\n",
              "      <td>8</td>\n",
              "      <td>2009</td>\n",
              "    </tr>\n",
              "    <tr>\n",
              "      <th>818</th>\n",
              "      <td>20</td>\n",
              "      <td>NaN</td>\n",
              "      <td>13265</td>\n",
              "      <td>8</td>\n",
              "      <td>5</td>\n",
              "      <td>2002</td>\n",
              "      <td>2002</td>\n",
              "      <td>148.0</td>\n",
              "      <td>1218</td>\n",
              "      <td>0</td>\n",
              "      <td>350</td>\n",
              "      <td>1568</td>\n",
              "      <td>1689</td>\n",
              "      <td>0</td>\n",
              "      <td>0</td>\n",
              "      <td>1689</td>\n",
              "      <td>1</td>\n",
              "      <td>0</td>\n",
              "      <td>2</td>\n",
              "      <td>0</td>\n",
              "      <td>3</td>\n",
              "      <td>1</td>\n",
              "      <td>7</td>\n",
              "      <td>2</td>\n",
              "      <td>2002.0</td>\n",
              "      <td>3</td>\n",
              "      <td>857</td>\n",
              "      <td>150</td>\n",
              "      <td>59</td>\n",
              "      <td>0</td>\n",
              "      <td>0</td>\n",
              "      <td>0</td>\n",
              "      <td>0</td>\n",
              "      <td>0</td>\n",
              "      <td>7</td>\n",
              "      <td>2008</td>\n",
              "    </tr>\n",
              "    <tr>\n",
              "      <th>303</th>\n",
              "      <td>20</td>\n",
              "      <td>118.0</td>\n",
              "      <td>13704</td>\n",
              "      <td>7</td>\n",
              "      <td>5</td>\n",
              "      <td>2001</td>\n",
              "      <td>2002</td>\n",
              "      <td>150.0</td>\n",
              "      <td>0</td>\n",
              "      <td>0</td>\n",
              "      <td>1541</td>\n",
              "      <td>1541</td>\n",
              "      <td>1541</td>\n",
              "      <td>0</td>\n",
              "      <td>0</td>\n",
              "      <td>1541</td>\n",
              "      <td>0</td>\n",
              "      <td>0</td>\n",
              "      <td>2</td>\n",
              "      <td>0</td>\n",
              "      <td>3</td>\n",
              "      <td>1</td>\n",
              "      <td>6</td>\n",
              "      <td>1</td>\n",
              "      <td>2001.0</td>\n",
              "      <td>3</td>\n",
              "      <td>843</td>\n",
              "      <td>468</td>\n",
              "      <td>81</td>\n",
              "      <td>0</td>\n",
              "      <td>0</td>\n",
              "      <td>0</td>\n",
              "      <td>0</td>\n",
              "      <td>0</td>\n",
              "      <td>1</td>\n",
              "      <td>2006</td>\n",
              "    </tr>\n",
              "  </tbody>\n",
              "</table>\n",
              "</div>"
            ],
            "text/plain": [
              "     MSSubClass  LotFrontage  LotArea  ...  MiscVal  MoSold  YrSold\n",
              "Id                                     ...                         \n",
              "619          20         90.0    11694  ...        0       7    2007\n",
              "871          20         60.0     6600  ...        0       8    2009\n",
              "93           30         80.0    13360  ...        0       8    2009\n",
              "818          20          NaN    13265  ...        0       7    2008\n",
              "303          20        118.0    13704  ...        0       1    2006\n",
              "\n",
              "[5 rows x 36 columns]"
            ]
          },
          "metadata": {
            "tags": []
          },
          "execution_count": 2
        }
      ]
    },
    {
      "cell_type": "markdown",
      "metadata": {
        "id": "lxvtGGLLgTmF"
      },
      "source": [
        "You can already see a few missing values in the first several rows.  In the next step, you'll obtain a more comprehensive understanding of the missing values in the dataset.\n",
        "\n",
        "---\n",
        "\n",
        "## Step 1: Preliminary Investigation\n",
        "\n",
        "Run the code cell below without changes."
      ]
    },
    {
      "cell_type": "code",
      "metadata": {
        "execution": {
          "iopub.status.busy": "2021-08-14T17:28:54.366987Z",
          "iopub.execute_input": "2021-08-14T17:28:54.367265Z",
          "iopub.status.idle": "2021-08-14T17:28:54.380337Z",
          "shell.execute_reply.started": "2021-08-14T17:28:54.367238Z",
          "shell.execute_reply": "2021-08-14T17:28:54.379347Z"
        },
        "trusted": true,
        "colab": {
          "base_uri": "https://localhost:8080/"
        },
        "id": "sN9EpsvHgTmG",
        "outputId": "552188be-1a23-495f-b3af-a117923426e0"
      },
      "source": [
        "# Shape of training data (num_rows, num_columns)\n",
        "print(X_train.shape)\n",
        "\n",
        "# Number of missing values in each column of training data\n",
        "missing_val_count_by_column = (X_train.isnull().sum())\n",
        "print(missing_val_count_by_column[missing_val_count_by_column > 0])"
      ],
      "execution_count": 3,
      "outputs": [
        {
          "output_type": "stream",
          "text": [
            "(1168, 36)\n",
            "LotFrontage    212\n",
            "MasVnrArea       6\n",
            "GarageYrBlt     58\n",
            "dtype: int64\n"
          ],
          "name": "stdout"
        }
      ]
    },
    {
      "cell_type": "markdown",
      "metadata": {
        "id": "Fas89dzLgTmI"
      },
      "source": [
        "### Part A\n",
        "\n",
        "Use the above output to answer the questions below."
      ]
    },
    {
      "cell_type": "code",
      "metadata": {
        "execution": {
          "iopub.status.busy": "2021-08-14T17:28:54.381988Z",
          "iopub.execute_input": "2021-08-14T17:28:54.382603Z",
          "iopub.status.idle": "2021-08-14T17:28:54.395608Z",
          "shell.execute_reply.started": "2021-08-14T17:28:54.38256Z",
          "shell.execute_reply": "2021-08-14T17:28:54.394259Z"
        },
        "trusted": true,
        "id": "gFAOVFi_gTmI"
      },
      "source": [
        "# Fill in the line below: How many rows are in the training data?\n",
        "num_rows = 1168\n",
        "\n",
        "# Fill in the line below: How many columns in the training data\n",
        "# have missing values?\n",
        "num_cols_with_missing = 3\n",
        "\n",
        "# Fill in the line below: How many missing entries are contained in \n",
        "# all of the training data?\n",
        "tot_missing = 212 + 6 + 58\n"
      ],
      "execution_count": 5,
      "outputs": []
    },
    {
      "cell_type": "markdown",
      "metadata": {
        "id": "TI61orOigTmK"
      },
      "source": [
        "### Part B\n",
        "Considering your answers above, what do you think is likely the best approach to dealing with the missing values?"
      ]
    },
    {
      "cell_type": "markdown",
      "metadata": {
        "id": "qGUUon5TgTmL"
      },
      "source": [
        "To compare different approaches to dealing with missing values, you'll use the same `score_dataset()` function from the tutorial.  This function reports the [mean absolute error](https://en.wikipedia.org/wiki/Mean_absolute_error) (MAE) from a random forest model."
      ]
    },
    {
      "cell_type": "code",
      "metadata": {
        "execution": {
          "iopub.status.busy": "2021-08-14T17:28:54.427683Z",
          "iopub.execute_input": "2021-08-14T17:28:54.427983Z",
          "iopub.status.idle": "2021-08-14T17:28:54.438058Z",
          "shell.execute_reply.started": "2021-08-14T17:28:54.427953Z",
          "shell.execute_reply": "2021-08-14T17:28:54.437101Z"
        },
        "trusted": true,
        "id": "bn1zSV6LgTmL"
      },
      "source": [
        "from sklearn.ensemble import RandomForestRegressor\n",
        "from sklearn.metrics import mean_absolute_error\n",
        "\n",
        "# Function for comparing different approaches\n",
        "def score_dataset(X_train, X_valid, y_train, y_valid):\n",
        "    model = RandomForestRegressor(n_estimators=100, random_state=0)\n",
        "    model.fit(X_train, y_train)\n",
        "    preds = model.predict(X_valid)\n",
        "    return mean_absolute_error(y_valid, preds)"
      ],
      "execution_count": 6,
      "outputs": []
    },
    {
      "cell_type": "markdown",
      "metadata": {
        "id": "sMVIrCvhgTmO"
      },
      "source": [
        "---\n",
        "\n",
        "## Step 2: Drop columns with missing values\n",
        "\n",
        "In this step, you'll preprocess the data in `X_train` and `X_valid` to remove columns with missing values.  Set the preprocessed DataFrames to `reduced_X_train` and `reduced_X_valid`, respectively.  "
      ]
    },
    {
      "cell_type": "code",
      "metadata": {
        "execution": {
          "iopub.status.busy": "2021-08-14T17:28:54.439541Z",
          "iopub.execute_input": "2021-08-14T17:28:54.440224Z",
          "iopub.status.idle": "2021-08-14T17:28:54.478272Z",
          "shell.execute_reply.started": "2021-08-14T17:28:54.44018Z",
          "shell.execute_reply": "2021-08-14T17:28:54.477061Z"
        },
        "trusted": true,
        "id": "EscqDEMLgTmO"
      },
      "source": [
        "# Fill in the line below: get names of columns with missing values\n",
        "missings_vals = [col for col in X_train.columns if X_train[col].isnull().any()]\n",
        "\n",
        "# Fill in the lines below: drop columns in training and validation data\n",
        "reduced_X_train = X_train.drop(missings_vals, axis=1)\n",
        "reduced_X_valid = X_valid.drop(missings_vals, axis=1)\n"
      ],
      "execution_count": 7,
      "outputs": []
    },
    {
      "cell_type": "markdown",
      "metadata": {
        "id": "HDuqbWp3gTmP"
      },
      "source": [
        "Run the next code cell without changes to obtain the MAE for this approach."
      ]
    },
    {
      "cell_type": "code",
      "metadata": {
        "execution": {
          "iopub.status.busy": "2021-08-14T17:28:54.48659Z",
          "iopub.execute_input": "2021-08-14T17:28:54.486974Z",
          "iopub.status.idle": "2021-08-14T17:28:55.739885Z",
          "shell.execute_reply.started": "2021-08-14T17:28:54.486938Z",
          "shell.execute_reply": "2021-08-14T17:28:55.738915Z"
        },
        "trusted": true,
        "colab": {
          "base_uri": "https://localhost:8080/"
        },
        "id": "x62HvEGcgTmP",
        "outputId": "54903b7c-bb0e-44c3-bd71-daec204eb136"
      },
      "source": [
        "print(\"MAE (Drop columns with missing values):\")\n",
        "print(score_dataset(reduced_X_train, reduced_X_valid, y_train, y_valid))"
      ],
      "execution_count": 8,
      "outputs": [
        {
          "output_type": "stream",
          "text": [
            "MAE (Drop columns with missing values):\n",
            "17837.82570776256\n"
          ],
          "name": "stdout"
        }
      ]
    },
    {
      "cell_type": "markdown",
      "metadata": {
        "id": "SLiTpOkegTmP"
      },
      "source": [
        "---\n",
        "\n",
        "## Step 3: Imputation\n",
        "\n",
        "### Part A\n",
        "\n",
        "Use the next code cell to impute missing values with the mean value along each column.  Set the preprocessed DataFrames to `imputed_X_train` and `imputed_X_valid`.  Make sure that the column names match those in `X_train` and `X_valid`."
      ]
    },
    {
      "cell_type": "code",
      "metadata": {
        "execution": {
          "iopub.status.busy": "2021-08-14T17:28:55.741084Z",
          "iopub.execute_input": "2021-08-14T17:28:55.741346Z",
          "iopub.status.idle": "2021-08-14T17:28:55.774639Z",
          "shell.execute_reply.started": "2021-08-14T17:28:55.741322Z",
          "shell.execute_reply": "2021-08-14T17:28:55.773445Z"
        },
        "trusted": true,
        "id": "LLdbZd__gTmQ"
      },
      "source": [
        "from sklearn.impute import SimpleImputer\n",
        "\n",
        "# Fill in the lines below: imputation\n",
        "imputer = SimpleImputer()\n",
        "imputed_X_train = pd.DataFrame(imputer.fit_transform(X_train))\n",
        "imputed_X_valid = pd.DataFrame(imputer.transform(X_valid))\n",
        "\n",
        "# Fill in the lines below: imputation removed column names; put them back\n",
        "imputed_X_train.columns = X_train.columns\n",
        "imputed_X_valid.columns = X_valid.columns\n"
      ],
      "execution_count": 9,
      "outputs": []
    },
    {
      "cell_type": "markdown",
      "metadata": {
        "id": "K3-lptLZgTmR"
      },
      "source": [
        "Run the next code cell without changes to obtain the MAE for this approach."
      ]
    },
    {
      "cell_type": "code",
      "metadata": {
        "execution": {
          "iopub.status.busy": "2021-08-14T17:28:55.781061Z",
          "iopub.execute_input": "2021-08-14T17:28:55.781334Z",
          "iopub.status.idle": "2021-08-14T17:28:57.166743Z",
          "shell.execute_reply.started": "2021-08-14T17:28:55.781307Z",
          "shell.execute_reply": "2021-08-14T17:28:57.165593Z"
        },
        "trusted": true,
        "colab": {
          "base_uri": "https://localhost:8080/"
        },
        "id": "jt7I_XsngTmR",
        "outputId": "65236307-368f-40b9-940a-f74e3135f49e"
      },
      "source": [
        "print(\"MAE (Imputation):\")\n",
        "print(score_dataset(imputed_X_train, imputed_X_valid, y_train, y_valid))"
      ],
      "execution_count": 10,
      "outputs": [
        {
          "output_type": "stream",
          "text": [
            "MAE (Imputation):\n",
            "18062.894611872147\n"
          ],
          "name": "stdout"
        }
      ]
    },
    {
      "cell_type": "markdown",
      "metadata": {
        "id": "nAcVQpZPgTmS"
      },
      "source": [
        "### Part B\n",
        "\n",
        "Compare the MAE from each approach.  Does anything surprise you about the results?  Why do you think one approach performed better than the other?"
      ]
    },
    {
      "cell_type": "markdown",
      "metadata": {
        "id": "aGJY8ICegTmS"
      },
      "source": [
        "---\n",
        "\n",
        "# Step 4: Generate Test Predictions\n",
        "\n",
        "In this final step, you'll use any approach of your choosing to deal with missing values.  Once you've preprocessed the training and validation features, you'll train and evaluate a random forest model.  Then, you'll preprocess the test data before generating predictions that can be submitted to the competition!\n",
        "\n",
        "### Part A\n",
        "\n",
        "Use the next code cell to preprocess the training and validation data.  Set the preprocessed DataFrames to `final_X_train` and `final_X_valid`.  **You can use any approach of your choosing here!**  in order for this step to be marked as correct, you need only ensure:\n",
        "- the preprocessed DataFrames have the same number of columns,\n",
        "- the preprocessed DataFrames have no missing values, \n",
        "- `final_X_train` and `y_train` have the same number of rows, and\n",
        "- `final_X_valid` and `y_valid` have the same number of rows."
      ]
    },
    {
      "cell_type": "code",
      "metadata": {
        "execution": {
          "iopub.status.busy": "2021-08-14T17:28:57.183799Z",
          "iopub.execute_input": "2021-08-14T17:28:57.184107Z",
          "iopub.status.idle": "2021-08-14T17:28:57.220458Z",
          "shell.execute_reply.started": "2021-08-14T17:28:57.184075Z",
          "shell.execute_reply": "2021-08-14T17:28:57.219492Z"
        },
        "trusted": true,
        "id": "UssXEec5gTmT"
      },
      "source": [
        "median_imputer = SimpleImputer(strategy='median')\n",
        "# Preprocessed training and validation features\n",
        "final_X_train = pd.DataFrame(median_imputer.fit_transform(X_train))\n",
        "final_X_valid = pd.DataFrame(median_imputer.transform(X_valid))\n"
      ],
      "execution_count": 11,
      "outputs": []
    },
    {
      "cell_type": "markdown",
      "metadata": {
        "id": "IFb1wOObgTmT"
      },
      "source": [
        "Run the next code cell to train and evaluate a random forest model.  (*Note that we don't use the `score_dataset()` function above, because we will soon use the trained model to generate test predictions!*)"
      ]
    },
    {
      "cell_type": "code",
      "metadata": {
        "execution": {
          "iopub.status.busy": "2021-08-14T17:28:57.22714Z",
          "iopub.execute_input": "2021-08-14T17:28:57.227422Z",
          "iopub.status.idle": "2021-08-14T17:28:58.605827Z",
          "shell.execute_reply.started": "2021-08-14T17:28:57.227395Z",
          "shell.execute_reply": "2021-08-14T17:28:58.604757Z"
        },
        "trusted": true,
        "colab": {
          "base_uri": "https://localhost:8080/"
        },
        "id": "qcCIzT0ZgTmT",
        "outputId": "b6041b72-2561-4225-beab-1d947d7199ce"
      },
      "source": [
        "# Define and fit model\n",
        "model = RandomForestRegressor(n_estimators=100, random_state=0)\n",
        "model.fit(final_X_train, y_train)\n",
        "\n",
        "# Get validation predictions and MAE\n",
        "preds_valid = model.predict(final_X_valid)\n",
        "print(\"MAE (Your approach):\")\n",
        "print(mean_absolute_error(y_valid, preds_valid))"
      ],
      "execution_count": 12,
      "outputs": [
        {
          "output_type": "stream",
          "text": [
            "MAE (Your approach):\n",
            "17791.59899543379\n"
          ],
          "name": "stdout"
        }
      ]
    },
    {
      "cell_type": "markdown",
      "metadata": {
        "id": "9cj4QMT5gTmT"
      },
      "source": [
        "### Part B\n",
        "\n",
        "Use the next code cell to preprocess your test data.  Make sure that you use a method that agrees with how you preprocessed the training and validation data, and set the preprocessed test features to `final_X_test`.\n",
        "\n",
        "Then, use the preprocessed test features and the trained model to generate test predictions in `preds_test`.\n",
        "\n",
        "In order for this step to be marked correct, you need only ensure:\n",
        "- the preprocessed test DataFrame has no missing values, and\n",
        "- `final_X_test` has the same number of rows as `X_test`."
      ]
    },
    {
      "cell_type": "code",
      "metadata": {
        "execution": {
          "iopub.status.busy": "2021-08-14T17:28:58.607138Z",
          "iopub.execute_input": "2021-08-14T17:28:58.60742Z",
          "iopub.status.idle": "2021-08-14T17:28:58.658298Z",
          "shell.execute_reply.started": "2021-08-14T17:28:58.607393Z",
          "shell.execute_reply": "2021-08-14T17:28:58.657387Z"
        },
        "trusted": true,
        "id": "QAnNQwNRgTmU"
      },
      "source": [
        "# Fill in the line below: preprocess test data\n",
        "final_X_test = pd.DataFrame(median_imputer.transform(X_test))\n",
        "\n",
        "# Fill in the line below: get test predictions\n",
        "preds_test = model.predict(final_X_test)\n"
      ],
      "execution_count": 13,
      "outputs": []
    },
    {
      "cell_type": "markdown",
      "metadata": {
        "id": "0Q_UboeAgTmU"
      },
      "source": [
        "Run the next code cell without changes to save your results to a CSV file that can be submitted directly to the competition."
      ]
    },
    {
      "cell_type": "code",
      "metadata": {
        "execution": {
          "iopub.status.busy": "2021-08-14T17:28:58.666689Z",
          "iopub.execute_input": "2021-08-14T17:28:58.667049Z",
          "iopub.status.idle": "2021-08-14T17:28:58.681558Z",
          "shell.execute_reply.started": "2021-08-14T17:28:58.667017Z",
          "shell.execute_reply": "2021-08-14T17:28:58.680519Z"
        },
        "trusted": true,
        "id": "vf51eOjEgTmU"
      },
      "source": [
        "# Save test predictions to file\n",
        "output = pd.DataFrame({'Id': X_test.index,\n",
        "                       'SalePrice': preds_test})\n",
        "output.to_csv('submission.csv', index=False)"
      ],
      "execution_count": 14,
      "outputs": []
    },
    {
      "cell_type": "markdown",
      "metadata": {
        "id": "M7qnEf5ugTmV"
      },
      "source": [
        "---\n",
        "\n",
        "## Submit Your Results\n",
        "\n",
        "Once you have successfully completed Step 4, you're ready to submit your results to the leaderboard!  (_You also learned how to do this in the previous exercise.  If you need a reminder of how to do this, please use the instructions below._)  \n",
        "\n",
        "First, you'll need to join the competition if you haven't already.  So open a new window by clicking on [this link](https://www.kaggle.com/c/home-data-for-ml-course).  Then click on the **Join Competition** button.\n",
        "\n",
        "![join competition image](https://i.imgur.com/wLmFtH3.png)\n",
        "\n",
        "Next, follow the instructions below:\n",
        "1. Begin by clicking on the blue **Save Version** button in the top right corner of the window.  This will generate a pop-up window.  \n",
        "2. Ensure that the **Save and Run All** option is selected, and then click on the blue **Save** button.\n",
        "3. This generates a window in the bottom left corner of the notebook.  After it has finished running, click on the number to the right of the **Save Version** button.  This pulls up a list of versions on the right of the screen.  Click on the ellipsis **(...)** to the right of the most recent version, and select **Open in Viewer**.  This brings you into view mode of the same page. You will need to scroll down to get back to these instructions.\n",
        "4. Click on the **Output** tab on the right of the screen.  Then, click on the file you would like to submit, and click on the blue **Submit** button to submit your results to the leaderboard.\n",
        "\n",
        "You have now successfully submitted to the competition!\n",
        "\n",
        "If you want to keep working to improve your performance, select the blue **Edit** button in the top right of the screen. Then you can change your code and repeat the process. There's a lot of room to improve, and you will climb up the leaderboard as you work.\n",
        "\n",
        "\n",
        "# Keep going\n",
        "\n",
        "Move on to learn what **[categorical variables](https://www.kaggle.com/alexisbcook/categorical-variables)** are, along with how to incorporate them into your machine learning models.  Categorical variables are very common in real-world data, but you'll get an error if you try to plug them into your models without processing them first!"
      ]
    },
    {
      "cell_type": "markdown",
      "metadata": {
        "id": "HMfK_jX8gTmV"
      },
      "source": [
        "---\n",
        "\n",
        "\n",
        "\n",
        "\n",
        "*Have questions or comments? Visit the [Learn Discussion forum](https://www.kaggle.com/learn-forum/161289) to chat with other Learners.*"
      ]
    }
  ]
}