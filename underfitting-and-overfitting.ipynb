{
  "nbformat": 4,
  "nbformat_minor": 0,
  "metadata": {
    "kernelspec": {
      "language": "python",
      "display_name": "Python 3",
      "name": "python3"
    },
    "language_info": {
      "pygments_lexer": "ipython3",
      "nbconvert_exporter": "python",
      "version": "3.6.4",
      "file_extension": ".py",
      "codemirror_mode": {
        "name": "ipython",
        "version": 3
      },
      "name": "python",
      "mimetype": "text/x-python"
    },
    "colab": {
      "name": "exercise-underfitting-and-overfitting.ipynb",
      "provenance": [],
      "include_colab_link": true
    }
  },
  "cells": [
    {
      "cell_type": "markdown",
      "metadata": {
        "id": "view-in-github",
        "colab_type": "text"
      },
      "source": [
        "<a href=\"https://colab.research.google.com/github/copev313/Housing-Prices-Predictive-Modeling/blob/introduction/underfitting-and-overfitting.ipynb\" target=\"_parent\"><img src=\"https://colab.research.google.com/assets/colab-badge.svg\" alt=\"Open In Colab\"/></a>"
      ]
    },
    {
      "cell_type": "markdown",
      "metadata": {
        "id": "ykDao_B9Y6NJ"
      },
      "source": [
        "# Overfitting & Underfitting\n"
      ]
    },
    {
      "cell_type": "markdown",
      "metadata": {
        "id": "Trjl-fG2Y6NK"
      },
      "source": [
        "## Recap\n",
        "You've built your first model, and now it's time to optimize the size of the tree to make better predictions. Run this cell to set up your coding environment where the previous step left off."
      ]
    },
    {
      "cell_type": "code",
      "metadata": {
        "id": "11w2ElhjZOK2"
      },
      "source": [
        "!pip install pandas scikit-learn --quiet"
      ],
      "execution_count": 6,
      "outputs": []
    },
    {
      "cell_type": "code",
      "metadata": {
        "execution": {
          "iopub.status.busy": "2021-08-04T16:37:30.764472Z",
          "iopub.execute_input": "2021-08-04T16:37:30.765055Z",
          "iopub.status.idle": "2021-08-04T16:37:31.94608Z",
          "shell.execute_reply.started": "2021-08-04T16:37:30.765023Z",
          "shell.execute_reply": "2021-08-04T16:37:31.945126Z"
        },
        "trusted": true,
        "colab": {
          "base_uri": "https://localhost:8080/"
        },
        "id": "B7XrBOzSY6NM",
        "outputId": "fa8650a1-3f92-4691-cd53-df33dc600cbc"
      },
      "source": [
        "import pandas as pd\n",
        "from sklearn.metrics import mean_absolute_error\n",
        "from sklearn.model_selection import train_test_split\n",
        "from sklearn.tree import DecisionTreeRegressor\n",
        "\n",
        "\n",
        "home_data = pd.read_csv('home_train.csv')\n",
        "# Create target object and call it y\n",
        "y = home_data.SalePrice\n",
        "# Create X\n",
        "features = ['LotArea', 'YearBuilt', '1stFlrSF', '2ndFlrSF', 'FullBath', 'BedroomAbvGr', 'TotRmsAbvGrd']\n",
        "X = home_data[features]\n",
        "\n",
        "# Split into validation and training data\n",
        "train_X, val_X, train_y, val_y = train_test_split(X, y, random_state=1)\n",
        "\n",
        "# Specify Model\n",
        "iowa_model = DecisionTreeRegressor(random_state=1)\n",
        "# Fit Model\n",
        "iowa_model.fit(train_X, train_y)\n",
        "\n",
        "# Make validation predictions and calculate mean absolute error\n",
        "val_predictions = iowa_model.predict(val_X)\n",
        "val_mae = mean_absolute_error(val_predictions, val_y)\n",
        "print(\"Validation MAE: {:,.0f}\".format(val_mae))\n"
      ],
      "execution_count": 7,
      "outputs": [
        {
          "output_type": "stream",
          "text": [
            "Validation MAE: 29,653\n"
          ],
          "name": "stdout"
        }
      ]
    },
    {
      "cell_type": "markdown",
      "metadata": {
        "id": "MueMammEY6NN"
      },
      "source": [
        "# Exercises\n",
        "You could write the function `get_mae` yourself. For now, we'll supply it. This is the same function you read about in the previous lesson. Just run the cell below."
      ]
    },
    {
      "cell_type": "code",
      "metadata": {
        "execution": {
          "iopub.status.busy": "2021-08-04T16:37:41.803833Z",
          "iopub.execute_input": "2021-08-04T16:37:41.804166Z",
          "iopub.status.idle": "2021-08-04T16:37:41.809122Z",
          "shell.execute_reply.started": "2021-08-04T16:37:41.804138Z",
          "shell.execute_reply": "2021-08-04T16:37:41.80787Z"
        },
        "trusted": true,
        "id": "B6VHPB-aY6NO"
      },
      "source": [
        "def get_mae(max_leaf_nodes, train_X, val_X, train_y, val_y):\n",
        "    model = DecisionTreeRegressor(max_leaf_nodes=max_leaf_nodes, random_state=0)\n",
        "    model.fit(train_X, train_y)\n",
        "    preds_val = model.predict(val_X)\n",
        "    mae = mean_absolute_error(val_y, preds_val)\n",
        "    return(mae)"
      ],
      "execution_count": 8,
      "outputs": []
    },
    {
      "cell_type": "markdown",
      "metadata": {
        "id": "fCf2wa1lY6NP"
      },
      "source": [
        "## Step 1: Compare Different Tree Sizes\n",
        "Write a loop that tries the following values for *max_leaf_nodes* from a set of possible values.\n",
        "\n",
        "Call the *get_mae* function on each value of max_leaf_nodes. Store the output in some way that allows you to select the value of `max_leaf_nodes` that gives the most accurate model on your data."
      ]
    },
    {
      "cell_type": "code",
      "metadata": {
        "execution": {
          "iopub.status.busy": "2021-08-04T16:42:21.945489Z",
          "iopub.execute_input": "2021-08-04T16:42:21.945864Z",
          "iopub.status.idle": "2021-08-04T16:42:21.999298Z",
          "shell.execute_reply.started": "2021-08-04T16:42:21.945832Z",
          "shell.execute_reply": "2021-08-04T16:42:21.998374Z"
        },
        "trusted": true,
        "colab": {
          "base_uri": "https://localhost:8080/"
        },
        "id": "UT6NfyxzY6NQ",
        "outputId": "26b1e670-8293-4d65-b3f7-f71542ef1043"
      },
      "source": [
        "candidate_max_leaf_nodes = [5, 25, 50, 100, 250, 500]\n",
        "# Write loop to find the ideal tree size from candidate_max_leaf_nodes\n",
        "for x in candidate_max_leaf_nodes:\n",
        "    mae = get_mae(x, train_X, val_X, train_y, val_y)\n",
        "    print(\"Max leaf nodes: {}  \\t\\t Mean Absolute Error: {}\".format(x, mae))\n",
        "\n",
        "# Store the best value of max_leaf_nodes (it will be either 5, 25, 50, 100, 250 or 500)\n",
        "best_tree_size = 100\n"
      ],
      "execution_count": 9,
      "outputs": [
        {
          "output_type": "stream",
          "text": [
            "Max leaf nodes: 5  \t\t Mean Absolute Error: 35044.51299744237\n",
            "Max leaf nodes: 25  \t\t Mean Absolute Error: 29016.41319191076\n",
            "Max leaf nodes: 50  \t\t Mean Absolute Error: 27405.930473214907\n",
            "Max leaf nodes: 100  \t\t Mean Absolute Error: 27282.50803885739\n",
            "Max leaf nodes: 250  \t\t Mean Absolute Error: 27893.822225701646\n",
            "Max leaf nodes: 500  \t\t Mean Absolute Error: 29454.18598068598\n"
          ],
          "name": "stdout"
        }
      ]
    },
    {
      "cell_type": "markdown",
      "metadata": {
        "id": "hmhm9-l4Y6NS"
      },
      "source": [
        "## Step 2: Fit Model Using All Data\n",
        "You know the best tree size. If you were going to deploy this model in practice, you would make it even more accurate by using all of the data and keeping that tree size.  That is, you don't need to hold out the validation data now that you've made all your modeling decisions."
      ]
    },
    {
      "cell_type": "code",
      "metadata": {
        "execution": {
          "iopub.status.busy": "2021-08-04T16:45:36.267336Z",
          "iopub.execute_input": "2021-08-04T16:45:36.267648Z",
          "iopub.status.idle": "2021-08-04T16:45:36.286052Z",
          "shell.execute_reply.started": "2021-08-04T16:45:36.267621Z",
          "shell.execute_reply": "2021-08-04T16:45:36.285165Z"
        },
        "trusted": true,
        "colab": {
          "base_uri": "https://localhost:8080/"
        },
        "id": "Qc_n0VhCY6NU",
        "outputId": "c3d4fa58-4896-4d0e-f2d6-4cb702f5eb61"
      },
      "source": [
        "# Fill in argument to make optimal size and uncomment\n",
        "final_model = DecisionTreeRegressor(max_leaf_nodes=100)\n",
        "\n",
        "# fit the final model and uncomment the next two lines\n",
        "final_model.fit(X, y)\n"
      ],
      "execution_count": 10,
      "outputs": [
        {
          "output_type": "execute_result",
          "data": {
            "text/plain": [
              "DecisionTreeRegressor(ccp_alpha=0.0, criterion='mse', max_depth=None,\n",
              "                      max_features=None, max_leaf_nodes=100,\n",
              "                      min_impurity_decrease=0.0, min_impurity_split=None,\n",
              "                      min_samples_leaf=1, min_samples_split=2,\n",
              "                      min_weight_fraction_leaf=0.0, presort='deprecated',\n",
              "                      random_state=None, splitter='best')"
            ]
          },
          "metadata": {
            "tags": []
          },
          "execution_count": 10
        }
      ]
    },
    {
      "cell_type": "markdown",
      "metadata": {
        "id": "estrG6ArY6NV"
      },
      "source": [
        "You've tuned this model and improved your results. But we are still using Decision Tree models, which are not very sophisticated by modern machine learning standards. In the next exercise we'll learn to use Random Forests to improve our models even more.\n"
      ]
    }
  ]
}